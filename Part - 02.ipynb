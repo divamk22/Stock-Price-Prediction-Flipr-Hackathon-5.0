{
 "cells": [
  {
   "cell_type": "markdown",
   "metadata": {},
   "source": [
    "# Put-Call Ratio Time-Series prediction using LSTM"
   ]
  },
  {
   "cell_type": "markdown",
   "metadata": {},
   "source": [
    "- <b>Using Long Short Term Memory (LSTM) to buid a Time-series prediction model to predict the \\\"Put-Call Ratio\\\" on 16th August.</b><br>\n",
    "\n",
    "- <b>With the value of Put-Call Ratio on 16th August and substituting these values in the \\\"Train_Dataset\\\" predicting the Stock Price using Artificial Neural Network (ANN).</b><br>,\n",
    "\n",
    "- <b> The idea behind the model is to predict the Put-Call Ratio value on 16th August and then predict the Stock Price. To predict the Put-Call Ratio value on 16th August, a LSTM model was created with window size i.e. Multiple Parallel Series. This LSTM picked 3 windows and predicted the rest of the windows one by one (4th window and so on). Since in the dataset sheet_name= \\\"Put-Call_TS\\\", the Put-Call Ratio value is iven for 6 days i.e. from 10th August to 15th August. So with the help of Multiple Parallel LSTM model, the prediction of  the Put-Call Ratio was made for the day of 16th August.</b><br>,\n",
    "\n",
    "- <b>After predicting the Put-Call Ratio value on 16th August, these values were substituted in the \\\"Train_Dataset\\\" with Put-Call Ratio value of 16th August. After doing this procedure, the model was trained using 5-layererd ANN and it was fit in to the dataset to predict Stock Price of Test dataset on 16th August.</b><br>,\n",
    "\n",
    "- <b>Output is Stock Price with Stock Index is in the form of excel workbook \\\"part-02.xlsx\\\"</b>"
   ]
  },
  {
   "cell_type": "code",
   "execution_count": 1,
   "metadata": {},
   "outputs": [],
   "source": [
    "import numpy as np\n",
    "import pandas as pd\n",
    "import tensorflow as rf\n",
    "from tensorflow import keras\n",
    "from tensorflow.keras.models import Sequential\n",
    "from tensorflow.keras.layers import Dense, LSTM\n",
    "from statsmodels.tsa.statespace.sarimax import SARIMAX"
   ]
  },
  {
   "cell_type": "markdown",
   "metadata": {},
   "source": [
    "### Function to create window sequence"
   ]
  },
  {
   "cell_type": "code",
   "execution_count": 2,
   "metadata": {},
   "outputs": [],
   "source": [
    "def split_sequences(sequences, n_steps):\n",
    "    X, y = list(), list()\n",
    "    for i in range(len(sequences)):\n",
    "        end_ix = i + n_steps\n",
    "        if end_ix > len(sequences)-1:\n",
    "            break\n",
    "        seq_x, seq_y = sequences[i:end_ix, :], sequences[end_ix, :]\n",
    "        X.append(seq_x)\n",
    "        y.append(seq_y)\n",
    "    return np.array(X), np.array(y)"
   ]
  },
  {
   "cell_type": "code",
   "execution_count": 3,
   "metadata": {},
   "outputs": [
    {
     "data": {
      "text/html": [
       "<div>\n",
       "<style scoped>\n",
       "    .dataframe tbody tr th:only-of-type {\n",
       "        vertical-align: middle;\n",
       "    }\n",
       "\n",
       "    .dataframe tbody tr th {\n",
       "        vertical-align: top;\n",
       "    }\n",
       "\n",
       "    .dataframe thead th {\n",
       "        text-align: right;\n",
       "    }\n",
       "</style>\n",
       "<table border=\"1\" class=\"dataframe\">\n",
       "  <thead>\n",
       "    <tr style=\"text-align: right;\">\n",
       "      <th></th>\n",
       "      <th>Stock Index</th>\n",
       "      <th>Put-Call Ratio</th>\n",
       "      <th>Unnamed: 2</th>\n",
       "      <th>Unnamed: 3</th>\n",
       "      <th>Unnamed: 4</th>\n",
       "      <th>Unnamed: 5</th>\n",
       "      <th>Unnamed: 6</th>\n",
       "    </tr>\n",
       "  </thead>\n",
       "  <tbody>\n",
       "    <tr>\n",
       "      <th>0</th>\n",
       "      <td>NaN</td>\n",
       "      <td>2020-08-10 00:00:00</td>\n",
       "      <td>2020-08-11 00:00:00</td>\n",
       "      <td>2020-08-12 00:00:00</td>\n",
       "      <td>2020-08-13 00:00:00</td>\n",
       "      <td>2020-08-14 00:00:00</td>\n",
       "      <td>2020-08-15 00:00:00</td>\n",
       "    </tr>\n",
       "    <tr>\n",
       "      <th>1</th>\n",
       "      <td>AC3235</td>\n",
       "      <td>0.8</td>\n",
       "      <td>0.66</td>\n",
       "      <td>0.7724</td>\n",
       "      <td>0.983224</td>\n",
       "      <td>0.901211</td>\n",
       "      <td>0.898368</td>\n",
       "    </tr>\n",
       "    <tr>\n",
       "      <th>2</th>\n",
       "      <td>AC3236</td>\n",
       "      <td>0.86</td>\n",
       "      <td>0.732</td>\n",
       "      <td>0.85448</td>\n",
       "      <td>1.08664</td>\n",
       "      <td>1.01704</td>\n",
       "      <td>1.02926</td>\n",
       "    </tr>\n",
       "    <tr>\n",
       "      <th>3</th>\n",
       "      <td>AC3237</td>\n",
       "      <td>0.93</td>\n",
       "      <td>0.816</td>\n",
       "      <td>0.95024</td>\n",
       "      <td>1.2073</td>\n",
       "      <td>NaN</td>\n",
       "      <td>1.18196</td>\n",
       "    </tr>\n",
       "    <tr>\n",
       "      <th>4</th>\n",
       "      <td>AC3238</td>\n",
       "      <td>1.09</td>\n",
       "      <td>1.008</td>\n",
       "      <td>1.16912</td>\n",
       "      <td>1.48309</td>\n",
       "      <td>1.46106</td>\n",
       "      <td>1.531</td>\n",
       "    </tr>\n",
       "  </tbody>\n",
       "</table>\n",
       "</div>"
      ],
      "text/plain": [
       "  Stock Index       Put-Call Ratio           Unnamed: 2           Unnamed: 3  \\\n",
       "0         NaN  2020-08-10 00:00:00  2020-08-11 00:00:00  2020-08-12 00:00:00   \n",
       "1      AC3235                  0.8                 0.66               0.7724   \n",
       "2      AC3236                 0.86                0.732              0.85448   \n",
       "3      AC3237                 0.93                0.816              0.95024   \n",
       "4      AC3238                 1.09                1.008              1.16912   \n",
       "\n",
       "            Unnamed: 4           Unnamed: 5           Unnamed: 6  \n",
       "0  2020-08-13 00:00:00  2020-08-14 00:00:00  2020-08-15 00:00:00  \n",
       "1             0.983224             0.901211             0.898368  \n",
       "2              1.08664              1.01704              1.02926  \n",
       "3               1.2073                  NaN              1.18196  \n",
       "4              1.48309              1.46106                1.531  "
      ]
     },
     "execution_count": 3,
     "metadata": {},
     "output_type": "execute_result"
    }
   ],
   "source": [
    "ds = pd.read_excel(\"Test_dataset.xlsx\", sheet_name=\"Put-Call_TS\")\n",
    "ds.head()"
   ]
  },
  {
   "cell_type": "markdown",
   "metadata": {},
   "source": [
    "## Preprocessing of Put-Call_TS data"
   ]
  },
  {
   "cell_type": "markdown",
   "metadata": {},
   "source": [
    "### Renaming the features and deleting some unwanted items"
   ]
  },
  {
   "cell_type": "code",
   "execution_count": 4,
   "metadata": {},
   "outputs": [],
   "source": [
    "ds.rename(columns = {\n",
    "    'Put-Call Ratio': 'August 10',\n",
    "    'Unnamed: 2': 'August 11',\n",
    "    'Unnamed: 3': 'August 12',\n",
    "    'Unnamed: 4': 'August 13',\n",
    "    'Unnamed: 5': 'August 14',\n",
    "    'Unnamed: 6': 'August 15',\n",
    "}, inplace = True)"
   ]
  },
  {
   "cell_type": "code",
   "execution_count": 5,
   "metadata": {},
   "outputs": [
    {
     "data": {
      "text/html": [
       "<div>\n",
       "<style scoped>\n",
       "    .dataframe tbody tr th:only-of-type {\n",
       "        vertical-align: middle;\n",
       "    }\n",
       "\n",
       "    .dataframe tbody tr th {\n",
       "        vertical-align: top;\n",
       "    }\n",
       "\n",
       "    .dataframe thead th {\n",
       "        text-align: right;\n",
       "    }\n",
       "</style>\n",
       "<table border=\"1\" class=\"dataframe\">\n",
       "  <thead>\n",
       "    <tr style=\"text-align: right;\">\n",
       "      <th></th>\n",
       "      <th>August 10</th>\n",
       "      <th>August 11</th>\n",
       "      <th>August 12</th>\n",
       "      <th>August 13</th>\n",
       "      <th>August 14</th>\n",
       "      <th>August 15</th>\n",
       "    </tr>\n",
       "  </thead>\n",
       "  <tbody>\n",
       "    <tr>\n",
       "      <th>1</th>\n",
       "      <td>0.8</td>\n",
       "      <td>0.66</td>\n",
       "      <td>0.7724</td>\n",
       "      <td>0.983224</td>\n",
       "      <td>0.901211</td>\n",
       "      <td>0.898368</td>\n",
       "    </tr>\n",
       "    <tr>\n",
       "      <th>2</th>\n",
       "      <td>0.86</td>\n",
       "      <td>0.732</td>\n",
       "      <td>0.85448</td>\n",
       "      <td>1.08664</td>\n",
       "      <td>1.01704</td>\n",
       "      <td>1.02926</td>\n",
       "    </tr>\n",
       "    <tr>\n",
       "      <th>3</th>\n",
       "      <td>0.93</td>\n",
       "      <td>0.816</td>\n",
       "      <td>0.95024</td>\n",
       "      <td>1.2073</td>\n",
       "      <td>NaN</td>\n",
       "      <td>1.18196</td>\n",
       "    </tr>\n",
       "    <tr>\n",
       "      <th>4</th>\n",
       "      <td>1.09</td>\n",
       "      <td>1.008</td>\n",
       "      <td>1.16912</td>\n",
       "      <td>1.48309</td>\n",
       "      <td>1.46106</td>\n",
       "      <td>1.531</td>\n",
       "    </tr>\n",
       "    <tr>\n",
       "      <th>5</th>\n",
       "      <td>NaN</td>\n",
       "      <td>1.104</td>\n",
       "      <td>1.27856</td>\n",
       "      <td>1.62099</td>\n",
       "      <td>1.6155</td>\n",
       "      <td>1.70552</td>\n",
       "    </tr>\n",
       "  </tbody>\n",
       "</table>\n",
       "</div>"
      ],
      "text/plain": [
       "  August 10 August 11 August 12 August 13 August 14 August 15\n",
       "1       0.8      0.66    0.7724  0.983224  0.901211  0.898368\n",
       "2      0.86     0.732   0.85448   1.08664   1.01704   1.02926\n",
       "3      0.93     0.816   0.95024    1.2073       NaN   1.18196\n",
       "4      1.09     1.008   1.16912   1.48309   1.46106     1.531\n",
       "5       NaN     1.104   1.27856   1.62099    1.6155   1.70552"
      ]
     },
     "execution_count": 5,
     "metadata": {},
     "output_type": "execute_result"
    }
   ],
   "source": [
    "ds = ds.drop('Stock Index', axis=1)\n",
    "ds = ds.iloc[1:, :]\n",
    "ds.head()"
   ]
  },
  {
   "cell_type": "markdown",
   "metadata": {},
   "source": [
    "### Checking for null values and filling them"
   ]
  },
  {
   "cell_type": "code",
   "execution_count": 6,
   "metadata": {},
   "outputs": [
    {
     "data": {
      "text/plain": [
       "August 10    429\n",
       "August 11      2\n",
       "August 12     57\n",
       "August 13     14\n",
       "August 14    105\n",
       "August 15    239\n",
       "dtype: int64"
      ]
     },
     "execution_count": 6,
     "metadata": {},
     "output_type": "execute_result"
    }
   ],
   "source": [
    "ds_null = ds.columns[ds.isnull().any()]\n",
    "ds[ds_null].isnull().sum()"
   ]
  },
  {
   "cell_type": "code",
   "execution_count": 7,
   "metadata": {},
   "outputs": [
    {
     "data": {
      "text/plain": [
       "Index(['August 10', 'August 11', 'August 12', 'August 13', 'August 14',\n",
       "       'August 15'],\n",
       "      dtype='object')"
      ]
     },
     "execution_count": 7,
     "metadata": {},
     "output_type": "execute_result"
    }
   ],
   "source": [
    "ds.columns"
   ]
  },
  {
   "cell_type": "code",
   "execution_count": 8,
   "metadata": {},
   "outputs": [],
   "source": [
    "ds[\"August 10\"].fillna(method ='ffill', inplace = True)\n",
    "ds[\"August 11\"].fillna(method ='ffill', inplace = True)\n",
    "ds[\"August 12\"].fillna(method ='ffill', inplace = True)\n",
    "ds[\"August 13\"].fillna(method ='ffill', inplace = True)\n",
    "ds[\"August 14\"].fillna(method ='ffill', inplace = True)\n",
    "ds[\"August 15\"].fillna(method ='ffill', inplace = True)"
   ]
  },
  {
   "cell_type": "markdown",
   "metadata": {},
   "source": [
    "### Window sequences"
   ]
  },
  {
   "cell_type": "code",
   "execution_count": 9,
   "metadata": {},
   "outputs": [
    {
     "data": {
      "text/plain": [
       "array([[0.8       , 0.66      , 0.7724    , 0.983224  , 0.90121088,\n",
       "        0.89836829],\n",
       "       [0.86      , 0.732     , 0.85448   , 1.0866448 , 1.01704218,\n",
       "        1.02925766],\n",
       "       [0.93      , 0.816     , 0.95024   , 1.2073024 , 1.01704218,\n",
       "        1.18196192],\n",
       "       ...,\n",
       "       [0.67      , 0.504     , 0.59456   , 0.7591456 , 0.65024307,\n",
       "        0.61477467],\n",
       "       [0.79      , 0.648     , 0.75872   , 0.9659872 , 0.88190566,\n",
       "        0.8765534 ],\n",
       "       [0.74      , 0.588     , 0.69032   , 0.8798032 , 0.78537958,\n",
       "        0.76747893]])"
      ]
     },
     "execution_count": 9,
     "metadata": {},
     "output_type": "execute_result"
    }
   ],
   "source": [
    "ds2 = ds.iloc[:,:].values\n",
    "ds2"
   ]
  },
  {
   "cell_type": "code",
   "execution_count": 10,
   "metadata": {},
   "outputs": [
    {
     "data": {
      "text/plain": [
       "array([[0.8       , 0.86      , 0.93      , ..., 0.67      , 0.79      ,\n",
       "        0.74      ],\n",
       "       [0.66      , 0.732     , 0.816     , ..., 0.504     , 0.648     ,\n",
       "        0.588     ],\n",
       "       [0.7724    , 0.85448   , 0.95024   , ..., 0.59456   , 0.75872   ,\n",
       "        0.69032   ],\n",
       "       [0.983224  , 1.0866448 , 1.2073024 , ..., 0.7591456 , 0.9659872 ,\n",
       "        0.8798032 ],\n",
       "       [0.90121088, 1.01704218, 1.01704218, ..., 0.65024307, 0.88190566,\n",
       "        0.78537958],\n",
       "       [0.89836829, 1.02925766, 1.18196192, ..., 0.61477467, 0.8765534 ,\n",
       "        0.76747893]])"
      ]
     },
     "execution_count": 10,
     "metadata": {},
     "output_type": "execute_result"
    }
   ],
   "source": [
    "ds2 = ds2.transpose()\n",
    "ds2"
   ]
  },
  {
   "cell_type": "code",
   "execution_count": 11,
   "metadata": {},
   "outputs": [
    {
     "data": {
      "text/plain": [
       "(6, 3331)"
      ]
     },
     "execution_count": 11,
     "metadata": {},
     "output_type": "execute_result"
    }
   ],
   "source": [
    "ds2.shape"
   ]
  },
  {
   "cell_type": "code",
   "execution_count": 12,
   "metadata": {},
   "outputs": [
    {
     "name": "stdout",
     "output_type": "stream",
     "text": [
      "3331\n",
      "[[[0.8        0.86       0.93       ... 0.67       0.79       0.74      ]\n",
      "  [0.66       0.732      0.816      ... 0.504      0.648      0.588     ]\n",
      "  [0.7724     0.85448    0.95024    ... 0.59456    0.75872    0.69032   ]]\n",
      "\n",
      " [[0.66       0.732      0.816      ... 0.504      0.648      0.588     ]\n",
      "  [0.7724     0.85448    0.95024    ... 0.59456    0.75872    0.69032   ]\n",
      "  [0.983224   1.0866448  1.2073024  ... 0.7591456  0.9659872  0.8798032 ]]\n",
      "\n",
      " [[0.7724     0.85448    0.95024    ... 0.59456    0.75872    0.69032   ]\n",
      "  [0.983224   1.0866448  1.2073024  ... 0.7591456  0.9659872  0.8798032 ]\n",
      "  [0.90121088 1.01704218 1.01704218 ... 0.65024307 0.88190566 0.78537958]]]\n"
     ]
    }
   ],
   "source": [
    "n_steps = 3\n",
    "X, y = split_sequences(ds2, n_steps)\n",
    "n_features = X.shape[2]\n",
    "print(X.shape[2])\n",
    "print(X)"
   ]
  },
  {
   "cell_type": "code",
   "execution_count": 13,
   "metadata": {},
   "outputs": [
    {
     "data": {
      "text/plain": [
       "array([[0.983224  , 1.0866448 , 1.2073024 , ..., 0.7591456 , 0.9659872 ,\n",
       "        0.8798032 ],\n",
       "       [0.90121088, 1.01704218, 1.01704218, ..., 0.65024307, 0.88190566,\n",
       "        0.78537958],\n",
       "       [0.89836829, 1.02925766, 1.18196192, ..., 0.61477467, 0.8765534 ,\n",
       "        0.76747893]])"
      ]
     },
     "execution_count": 13,
     "metadata": {},
     "output_type": "execute_result"
    }
   ],
   "source": [
    "y"
   ]
  },
  {
   "cell_type": "markdown",
   "metadata": {},
   "source": [
    "## Training the time-series data with LSTM model"
   ]
  },
  {
   "cell_type": "code",
   "execution_count": 14,
   "metadata": {},
   "outputs": [
    {
     "data": {
      "text/plain": [
       "<tensorflow.python.keras.callbacks.History at 0x243053e5820>"
      ]
     },
     "execution_count": 14,
     "metadata": {},
     "output_type": "execute_result"
    }
   ],
   "source": [
    "ts_lstm = Sequential()\n",
    "ts_lstm.add(LSTM(90, activation='relu', return_sequences=True, input_shape=(n_steps, n_features)))\n",
    "ts_lstm.add(LSTM(90, activation='relu'))\n",
    "ts_lstm.add(Dense(n_features))\n",
    "ts_lstm.compile(optimizer='adam', loss='mse')\n",
    "ts_lstm.fit(X, y, epochs=300, verbose=0)"
   ]
  },
  {
   "cell_type": "code",
   "execution_count": 15,
   "metadata": {},
   "outputs": [
    {
     "data": {
      "text/plain": [
       "array([[0.983224  , 1.0866448 , 1.2073024 , ..., 0.7591456 , 0.9659872 ,\n",
       "        0.8798032 ],\n",
       "       [0.90121088, 1.01704218, 1.01704218, ..., 0.65024307, 0.88190566,\n",
       "        0.78537958],\n",
       "       [0.89836829, 1.02925766, 1.18196192, ..., 0.61477467, 0.8765534 ,\n",
       "        0.76747893]])"
      ]
     },
     "execution_count": 15,
     "metadata": {},
     "output_type": "execute_result"
    }
   ],
   "source": [
    "z = ds2[3:6, :]\n",
    "z"
   ]
  },
  {
   "cell_type": "code",
   "execution_count": 16,
   "metadata": {},
   "outputs": [],
   "source": [
    "z = z.reshape((1, n_steps, n_features))\n",
    "vals = ts_lstm.predict(z, verbose=0)"
   ]
  },
  {
   "cell_type": "markdown",
   "metadata": {},
   "source": [
    "## Train Dataset - Preprocessing"
   ]
  },
  {
   "cell_type": "markdown",
   "metadata": {},
   "source": [
    "### Dropping of unwanted features/attributes"
   ]
  },
  {
   "cell_type": "code",
   "execution_count": 17,
   "metadata": {},
   "outputs": [],
   "source": [
    "df = pd.read_excel(\"Train_dataset.xlsx\", sheet_name = \"Train_Aug10\")\n",
    "df1 = pd.read_excel(\"Test_dataset.xlsx\", sheet_name = \"Test_Aug10\")\n",
    "df2 = pd.read_excel(\"Test_dataset.xlsx\", sheet_name = \"Test_Aug10\")"
   ]
  },
  {
   "cell_type": "code",
   "execution_count": 18,
   "metadata": {},
   "outputs": [
    {
     "data": {
      "text/html": [
       "<div>\n",
       "<style scoped>\n",
       "    .dataframe tbody tr th:only-of-type {\n",
       "        vertical-align: middle;\n",
       "    }\n",
       "\n",
       "    .dataframe tbody tr th {\n",
       "        vertical-align: top;\n",
       "    }\n",
       "\n",
       "    .dataframe thead th {\n",
       "        text-align: right;\n",
       "    }\n",
       "</style>\n",
       "<table border=\"1\" class=\"dataframe\">\n",
       "  <thead>\n",
       "    <tr style=\"text-align: right;\">\n",
       "      <th></th>\n",
       "      <th>Stock Index</th>\n",
       "      <th>Index</th>\n",
       "      <th>Industry</th>\n",
       "      <th>VWAP</th>\n",
       "      <th>General Index</th>\n",
       "      <th>NAV</th>\n",
       "      <th>P/E Ratio</th>\n",
       "      <th>Volumes Traded</th>\n",
       "      <th>Inventory Turnover</th>\n",
       "      <th>Covid Impact (Beta)</th>\n",
       "      <th>Tracking Error</th>\n",
       "      <th>Dollar Exchange Rate</th>\n",
       "      <th>Put-Call Ratio</th>\n",
       "      <th>P/B Ratio</th>\n",
       "      <th>Stock Price</th>\n",
       "    </tr>\n",
       "  </thead>\n",
       "  <tbody>\n",
       "    <tr>\n",
       "      <th>0</th>\n",
       "      <td>AA1</td>\n",
       "      <td>NYSE</td>\n",
       "      <td>Real Estate</td>\n",
       "      <td>700.29</td>\n",
       "      <td>12765.84</td>\n",
       "      <td>32.38</td>\n",
       "      <td>45.35</td>\n",
       "      <td>1208599.0</td>\n",
       "      <td>5.05</td>\n",
       "      <td>-0.43</td>\n",
       "      <td>0.0520</td>\n",
       "      <td>1.0</td>\n",
       "      <td>0.61</td>\n",
       "      <td>9.20</td>\n",
       "      <td>156.987852</td>\n",
       "    </tr>\n",
       "    <tr>\n",
       "      <th>1</th>\n",
       "      <td>AA2</td>\n",
       "      <td>NYSE</td>\n",
       "      <td>Information Tech</td>\n",
       "      <td>214.52</td>\n",
       "      <td>12765.84</td>\n",
       "      <td>33.25</td>\n",
       "      <td>170.56</td>\n",
       "      <td>13753356.0</td>\n",
       "      <td>3.10</td>\n",
       "      <td>0.23</td>\n",
       "      <td>0.0164</td>\n",
       "      <td>1.0</td>\n",
       "      <td>NaN</td>\n",
       "      <td>6.91</td>\n",
       "      <td>560.859622</td>\n",
       "    </tr>\n",
       "    <tr>\n",
       "      <th>2</th>\n",
       "      <td>AA3</td>\n",
       "      <td>NYSE</td>\n",
       "      <td>Information Tech</td>\n",
       "      <td>943.42</td>\n",
       "      <td>12765.84</td>\n",
       "      <td>88.27</td>\n",
       "      <td>143.58</td>\n",
       "      <td>6892003.0</td>\n",
       "      <td>7.70</td>\n",
       "      <td>0.23</td>\n",
       "      <td>0.0396</td>\n",
       "      <td>1.0</td>\n",
       "      <td>NaN</td>\n",
       "      <td>6.09</td>\n",
       "      <td>1279.732874</td>\n",
       "    </tr>\n",
       "    <tr>\n",
       "      <th>3</th>\n",
       "      <td>AA4</td>\n",
       "      <td>BSE</td>\n",
       "      <td>Materials</td>\n",
       "      <td>828.13</td>\n",
       "      <td>38182.08</td>\n",
       "      <td>73.66</td>\n",
       "      <td>151.76</td>\n",
       "      <td>8316793.0</td>\n",
       "      <td>4.80</td>\n",
       "      <td>0.03</td>\n",
       "      <td>0.0431</td>\n",
       "      <td>74.9</td>\n",
       "      <td>1.11</td>\n",
       "      <td>5.60</td>\n",
       "      <td>1121.787632</td>\n",
       "    </tr>\n",
       "    <tr>\n",
       "      <th>4</th>\n",
       "      <td>AA5</td>\n",
       "      <td>S&amp;P 500</td>\n",
       "      <td>Real Estate</td>\n",
       "      <td>NaN</td>\n",
       "      <td>3351.28</td>\n",
       "      <td>23.79</td>\n",
       "      <td>NaN</td>\n",
       "      <td>3943312.0</td>\n",
       "      <td>8.06</td>\n",
       "      <td>-0.43</td>\n",
       "      <td>0.0244</td>\n",
       "      <td>1.0</td>\n",
       "      <td>1.07</td>\n",
       "      <td>9.46</td>\n",
       "      <td>382.962534</td>\n",
       "    </tr>\n",
       "  </tbody>\n",
       "</table>\n",
       "</div>"
      ],
      "text/plain": [
       "  Stock Index    Index          Industry    VWAP  General Index    NAV  \\\n",
       "0         AA1     NYSE       Real Estate  700.29       12765.84  32.38   \n",
       "1         AA2     NYSE  Information Tech  214.52       12765.84  33.25   \n",
       "2         AA3     NYSE  Information Tech  943.42       12765.84  88.27   \n",
       "3         AA4      BSE         Materials  828.13       38182.08  73.66   \n",
       "4         AA5  S&P 500       Real Estate     NaN        3351.28  23.79   \n",
       "\n",
       "   P/E Ratio  Volumes Traded  Inventory Turnover  Covid Impact (Beta)  \\\n",
       "0      45.35       1208599.0                5.05                -0.43   \n",
       "1     170.56      13753356.0                3.10                 0.23   \n",
       "2     143.58       6892003.0                7.70                 0.23   \n",
       "3     151.76       8316793.0                4.80                 0.03   \n",
       "4        NaN       3943312.0                8.06                -0.43   \n",
       "\n",
       "   Tracking Error  Dollar Exchange Rate  Put-Call Ratio  P/B Ratio  \\\n",
       "0          0.0520                   1.0            0.61       9.20   \n",
       "1          0.0164                   1.0             NaN       6.91   \n",
       "2          0.0396                   1.0             NaN       6.09   \n",
       "3          0.0431                  74.9            1.11       5.60   \n",
       "4          0.0244                   1.0            1.07       9.46   \n",
       "\n",
       "   Stock Price  \n",
       "0   156.987852  \n",
       "1   560.859622  \n",
       "2  1279.732874  \n",
       "3  1121.787632  \n",
       "4   382.962534  "
      ]
     },
     "execution_count": 18,
     "metadata": {},
     "output_type": "execute_result"
    }
   ],
   "source": [
    "df.head()"
   ]
  },
  {
   "cell_type": "code",
   "execution_count": 19,
   "metadata": {},
   "outputs": [],
   "source": [
    "s = df[\"Stock Index\"]"
   ]
  },
  {
   "cell_type": "code",
   "execution_count": 20,
   "metadata": {},
   "outputs": [],
   "source": [
    "df.drop([\"Stock Index\"], axis = 1, inplace = True)"
   ]
  },
  {
   "cell_type": "code",
   "execution_count": 21,
   "metadata": {},
   "outputs": [
    {
     "data": {
      "text/html": [
       "<div>\n",
       "<style scoped>\n",
       "    .dataframe tbody tr th:only-of-type {\n",
       "        vertical-align: middle;\n",
       "    }\n",
       "\n",
       "    .dataframe tbody tr th {\n",
       "        vertical-align: top;\n",
       "    }\n",
       "\n",
       "    .dataframe thead th {\n",
       "        text-align: right;\n",
       "    }\n",
       "</style>\n",
       "<table border=\"1\" class=\"dataframe\">\n",
       "  <thead>\n",
       "    <tr style=\"text-align: right;\">\n",
       "      <th></th>\n",
       "      <th>Index</th>\n",
       "      <th>Industry</th>\n",
       "      <th>VWAP</th>\n",
       "      <th>General Index</th>\n",
       "      <th>NAV</th>\n",
       "      <th>P/E Ratio</th>\n",
       "      <th>Volumes Traded</th>\n",
       "      <th>Inventory Turnover</th>\n",
       "      <th>Covid Impact (Beta)</th>\n",
       "      <th>Tracking Error</th>\n",
       "      <th>Dollar Exchange Rate</th>\n",
       "      <th>Put-Call Ratio</th>\n",
       "      <th>P/B Ratio</th>\n",
       "      <th>Stock Price</th>\n",
       "    </tr>\n",
       "  </thead>\n",
       "  <tbody>\n",
       "    <tr>\n",
       "      <th>0</th>\n",
       "      <td>NYSE</td>\n",
       "      <td>Real Estate</td>\n",
       "      <td>700.29</td>\n",
       "      <td>12765.84</td>\n",
       "      <td>32.38</td>\n",
       "      <td>45.35</td>\n",
       "      <td>1208599.0</td>\n",
       "      <td>5.05</td>\n",
       "      <td>-0.43</td>\n",
       "      <td>0.0520</td>\n",
       "      <td>1.0</td>\n",
       "      <td>0.61</td>\n",
       "      <td>9.20</td>\n",
       "      <td>156.987852</td>\n",
       "    </tr>\n",
       "    <tr>\n",
       "      <th>1</th>\n",
       "      <td>NYSE</td>\n",
       "      <td>Information Tech</td>\n",
       "      <td>214.52</td>\n",
       "      <td>12765.84</td>\n",
       "      <td>33.25</td>\n",
       "      <td>170.56</td>\n",
       "      <td>13753356.0</td>\n",
       "      <td>3.10</td>\n",
       "      <td>0.23</td>\n",
       "      <td>0.0164</td>\n",
       "      <td>1.0</td>\n",
       "      <td>NaN</td>\n",
       "      <td>6.91</td>\n",
       "      <td>560.859622</td>\n",
       "    </tr>\n",
       "    <tr>\n",
       "      <th>2</th>\n",
       "      <td>NYSE</td>\n",
       "      <td>Information Tech</td>\n",
       "      <td>943.42</td>\n",
       "      <td>12765.84</td>\n",
       "      <td>88.27</td>\n",
       "      <td>143.58</td>\n",
       "      <td>6892003.0</td>\n",
       "      <td>7.70</td>\n",
       "      <td>0.23</td>\n",
       "      <td>0.0396</td>\n",
       "      <td>1.0</td>\n",
       "      <td>NaN</td>\n",
       "      <td>6.09</td>\n",
       "      <td>1279.732874</td>\n",
       "    </tr>\n",
       "    <tr>\n",
       "      <th>3</th>\n",
       "      <td>BSE</td>\n",
       "      <td>Materials</td>\n",
       "      <td>828.13</td>\n",
       "      <td>38182.08</td>\n",
       "      <td>73.66</td>\n",
       "      <td>151.76</td>\n",
       "      <td>8316793.0</td>\n",
       "      <td>4.80</td>\n",
       "      <td>0.03</td>\n",
       "      <td>0.0431</td>\n",
       "      <td>74.9</td>\n",
       "      <td>1.11</td>\n",
       "      <td>5.60</td>\n",
       "      <td>1121.787632</td>\n",
       "    </tr>\n",
       "    <tr>\n",
       "      <th>4</th>\n",
       "      <td>S&amp;P 500</td>\n",
       "      <td>Real Estate</td>\n",
       "      <td>NaN</td>\n",
       "      <td>3351.28</td>\n",
       "      <td>23.79</td>\n",
       "      <td>NaN</td>\n",
       "      <td>3943312.0</td>\n",
       "      <td>8.06</td>\n",
       "      <td>-0.43</td>\n",
       "      <td>0.0244</td>\n",
       "      <td>1.0</td>\n",
       "      <td>1.07</td>\n",
       "      <td>9.46</td>\n",
       "      <td>382.962534</td>\n",
       "    </tr>\n",
       "  </tbody>\n",
       "</table>\n",
       "</div>"
      ],
      "text/plain": [
       "     Index          Industry    VWAP  General Index    NAV  P/E Ratio  \\\n",
       "0     NYSE       Real Estate  700.29       12765.84  32.38      45.35   \n",
       "1     NYSE  Information Tech  214.52       12765.84  33.25     170.56   \n",
       "2     NYSE  Information Tech  943.42       12765.84  88.27     143.58   \n",
       "3      BSE         Materials  828.13       38182.08  73.66     151.76   \n",
       "4  S&P 500       Real Estate     NaN        3351.28  23.79        NaN   \n",
       "\n",
       "   Volumes Traded  Inventory Turnover  Covid Impact (Beta)  Tracking Error  \\\n",
       "0       1208599.0                5.05                -0.43          0.0520   \n",
       "1      13753356.0                3.10                 0.23          0.0164   \n",
       "2       6892003.0                7.70                 0.23          0.0396   \n",
       "3       8316793.0                4.80                 0.03          0.0431   \n",
       "4       3943312.0                8.06                -0.43          0.0244   \n",
       "\n",
       "   Dollar Exchange Rate  Put-Call Ratio  P/B Ratio  Stock Price  \n",
       "0                   1.0            0.61       9.20   156.987852  \n",
       "1                   1.0             NaN       6.91   560.859622  \n",
       "2                   1.0             NaN       6.09  1279.732874  \n",
       "3                  74.9            1.11       5.60  1121.787632  \n",
       "4                   1.0            1.07       9.46   382.962534  "
      ]
     },
     "execution_count": 21,
     "metadata": {},
     "output_type": "execute_result"
    }
   ],
   "source": [
    "df.head()"
   ]
  },
  {
   "cell_type": "markdown",
   "metadata": {},
   "source": [
    "### Filling the missing values"
   ]
  },
  {
   "cell_type": "code",
   "execution_count": 22,
   "metadata": {},
   "outputs": [
    {
     "data": {
      "text/plain": [
       "VWAP                     38\n",
       "General Index            62\n",
       "NAV                      61\n",
       "P/E Ratio               234\n",
       "Volumes Traded          268\n",
       "Inventory Turnover      399\n",
       "Covid Impact (Beta)     376\n",
       "Tracking Error           71\n",
       "Dollar Exchange Rate     77\n",
       "Put-Call Ratio           85\n",
       "P/B Ratio                25\n",
       "dtype: int64"
      ]
     },
     "execution_count": 22,
     "metadata": {},
     "output_type": "execute_result"
    }
   ],
   "source": [
    "df_null = df.columns[df.isnull().any()]\n",
    "df[df_null].isnull().sum()"
   ]
  },
  {
   "cell_type": "code",
   "execution_count": 23,
   "metadata": {},
   "outputs": [],
   "source": [
    "df[\"VWAP\"].fillna(method ='ffill', inplace = True)\n",
    "df[\"General Index\"].fillna(method ='ffill', inplace = True)\n",
    "df[\"NAV\"].fillna(method ='ffill', inplace = True)\n",
    "df[\"P/E Ratio\"].fillna(method ='ffill', inplace = True)\n",
    "df[\"Volumes Traded\"].fillna(method ='ffill', inplace = True)\n",
    "df[\"Inventory Turnover\"].fillna(method ='ffill', inplace = True)\n",
    "df[\"Covid Impact (Beta)\"].fillna(method ='ffill', inplace = True)\n",
    "df[\"Tracking Error\"].fillna(method ='ffill', inplace = True)\n",
    "df[\"Dollar Exchange Rate\"].fillna(method ='ffill', inplace = True)\n",
    "df[\"Put-Call Ratio\"].fillna(method ='ffill', inplace = True)\n",
    "df[\"P/B Ratio\"].fillna(method ='ffill', inplace = True)"
   ]
  },
  {
   "cell_type": "code",
   "execution_count": 24,
   "metadata": {},
   "outputs": [
    {
     "data": {
      "text/html": [
       "<div>\n",
       "<style scoped>\n",
       "    .dataframe tbody tr th:only-of-type {\n",
       "        vertical-align: middle;\n",
       "    }\n",
       "\n",
       "    .dataframe tbody tr th {\n",
       "        vertical-align: top;\n",
       "    }\n",
       "\n",
       "    .dataframe thead th {\n",
       "        text-align: right;\n",
       "    }\n",
       "</style>\n",
       "<table border=\"1\" class=\"dataframe\">\n",
       "  <thead>\n",
       "    <tr style=\"text-align: right;\">\n",
       "      <th></th>\n",
       "      <th>Index</th>\n",
       "      <th>Industry</th>\n",
       "      <th>VWAP</th>\n",
       "      <th>General Index</th>\n",
       "      <th>NAV</th>\n",
       "      <th>P/E Ratio</th>\n",
       "      <th>Volumes Traded</th>\n",
       "      <th>Inventory Turnover</th>\n",
       "      <th>Covid Impact (Beta)</th>\n",
       "      <th>Tracking Error</th>\n",
       "      <th>Dollar Exchange Rate</th>\n",
       "      <th>Put-Call Ratio</th>\n",
       "      <th>P/B Ratio</th>\n",
       "      <th>Stock Price</th>\n",
       "    </tr>\n",
       "  </thead>\n",
       "  <tbody>\n",
       "    <tr>\n",
       "      <th>0</th>\n",
       "      <td>NYSE</td>\n",
       "      <td>Real Estate</td>\n",
       "      <td>700.29</td>\n",
       "      <td>12765.84</td>\n",
       "      <td>32.38</td>\n",
       "      <td>45.35</td>\n",
       "      <td>1208599.0</td>\n",
       "      <td>5.05</td>\n",
       "      <td>-0.43</td>\n",
       "      <td>0.0520</td>\n",
       "      <td>1.0</td>\n",
       "      <td>0.61</td>\n",
       "      <td>9.20</td>\n",
       "      <td>156.987852</td>\n",
       "    </tr>\n",
       "    <tr>\n",
       "      <th>1</th>\n",
       "      <td>NYSE</td>\n",
       "      <td>Information Tech</td>\n",
       "      <td>214.52</td>\n",
       "      <td>12765.84</td>\n",
       "      <td>33.25</td>\n",
       "      <td>170.56</td>\n",
       "      <td>13753356.0</td>\n",
       "      <td>3.10</td>\n",
       "      <td>0.23</td>\n",
       "      <td>0.0164</td>\n",
       "      <td>1.0</td>\n",
       "      <td>0.61</td>\n",
       "      <td>6.91</td>\n",
       "      <td>560.859622</td>\n",
       "    </tr>\n",
       "    <tr>\n",
       "      <th>2</th>\n",
       "      <td>NYSE</td>\n",
       "      <td>Information Tech</td>\n",
       "      <td>943.42</td>\n",
       "      <td>12765.84</td>\n",
       "      <td>88.27</td>\n",
       "      <td>143.58</td>\n",
       "      <td>6892003.0</td>\n",
       "      <td>7.70</td>\n",
       "      <td>0.23</td>\n",
       "      <td>0.0396</td>\n",
       "      <td>1.0</td>\n",
       "      <td>0.61</td>\n",
       "      <td>6.09</td>\n",
       "      <td>1279.732874</td>\n",
       "    </tr>\n",
       "    <tr>\n",
       "      <th>3</th>\n",
       "      <td>BSE</td>\n",
       "      <td>Materials</td>\n",
       "      <td>828.13</td>\n",
       "      <td>38182.08</td>\n",
       "      <td>73.66</td>\n",
       "      <td>151.76</td>\n",
       "      <td>8316793.0</td>\n",
       "      <td>4.80</td>\n",
       "      <td>0.03</td>\n",
       "      <td>0.0431</td>\n",
       "      <td>74.9</td>\n",
       "      <td>1.11</td>\n",
       "      <td>5.60</td>\n",
       "      <td>1121.787632</td>\n",
       "    </tr>\n",
       "    <tr>\n",
       "      <th>4</th>\n",
       "      <td>S&amp;P 500</td>\n",
       "      <td>Real Estate</td>\n",
       "      <td>828.13</td>\n",
       "      <td>3351.28</td>\n",
       "      <td>23.79</td>\n",
       "      <td>151.76</td>\n",
       "      <td>3943312.0</td>\n",
       "      <td>8.06</td>\n",
       "      <td>-0.43</td>\n",
       "      <td>0.0244</td>\n",
       "      <td>1.0</td>\n",
       "      <td>1.07</td>\n",
       "      <td>9.46</td>\n",
       "      <td>382.962534</td>\n",
       "    </tr>\n",
       "  </tbody>\n",
       "</table>\n",
       "</div>"
      ],
      "text/plain": [
       "     Index          Industry    VWAP  General Index    NAV  P/E Ratio  \\\n",
       "0     NYSE       Real Estate  700.29       12765.84  32.38      45.35   \n",
       "1     NYSE  Information Tech  214.52       12765.84  33.25     170.56   \n",
       "2     NYSE  Information Tech  943.42       12765.84  88.27     143.58   \n",
       "3      BSE         Materials  828.13       38182.08  73.66     151.76   \n",
       "4  S&P 500       Real Estate  828.13        3351.28  23.79     151.76   \n",
       "\n",
       "   Volumes Traded  Inventory Turnover  Covid Impact (Beta)  Tracking Error  \\\n",
       "0       1208599.0                5.05                -0.43          0.0520   \n",
       "1      13753356.0                3.10                 0.23          0.0164   \n",
       "2       6892003.0                7.70                 0.23          0.0396   \n",
       "3       8316793.0                4.80                 0.03          0.0431   \n",
       "4       3943312.0                8.06                -0.43          0.0244   \n",
       "\n",
       "   Dollar Exchange Rate  Put-Call Ratio  P/B Ratio  Stock Price  \n",
       "0                   1.0            0.61       9.20   156.987852  \n",
       "1                   1.0            0.61       6.91   560.859622  \n",
       "2                   1.0            0.61       6.09  1279.732874  \n",
       "3                  74.9            1.11       5.60  1121.787632  \n",
       "4                   1.0            1.07       9.46   382.962534  "
      ]
     },
     "execution_count": 24,
     "metadata": {},
     "output_type": "execute_result"
    }
   ],
   "source": [
    "df.head()"
   ]
  },
  {
   "cell_type": "markdown",
   "metadata": {},
   "source": [
    "### Using LabelEncoder to convert Categorical Values into Numerical"
   ]
  },
  {
   "cell_type": "code",
   "execution_count": 25,
   "metadata": {},
   "outputs": [
    {
     "data": {
      "text/plain": [
       "['Index', 'Industry']"
      ]
     },
     "execution_count": 25,
     "metadata": {},
     "output_type": "execute_result"
    }
   ],
   "source": [
    "df_ctgcol = list(df.select_dtypes(exclude = [\"number\"]).columns)\n",
    "df_ctgcol"
   ]
  },
  {
   "cell_type": "code",
   "execution_count": 26,
   "metadata": {},
   "outputs": [
    {
     "name": "stdout",
     "output_type": "stream",
     "text": [
      "['NYSE' 'BSE' 'S&P 500' 'NSE' 'JSE']\n",
      "[3 0 4 2 1]\n",
      "['Real Estate' 'Information Tech' 'Materials' 'Healthcare' 'Energy']\n",
      "[4 2 3 1 0]\n"
     ]
    }
   ],
   "source": [
    "from sklearn.preprocessing import LabelEncoder\n",
    "le = LabelEncoder()\n",
    "for i in df_ctgcol:\n",
    "    print(df[i].unique())\n",
    "    df[i] = le.fit_transform(df[i])\n",
    "    print(df[i].unique())"
   ]
  },
  {
   "cell_type": "code",
   "execution_count": 27,
   "metadata": {},
   "outputs": [
    {
     "data": {
      "text/html": [
       "<div>\n",
       "<style scoped>\n",
       "    .dataframe tbody tr th:only-of-type {\n",
       "        vertical-align: middle;\n",
       "    }\n",
       "\n",
       "    .dataframe tbody tr th {\n",
       "        vertical-align: top;\n",
       "    }\n",
       "\n",
       "    .dataframe thead th {\n",
       "        text-align: right;\n",
       "    }\n",
       "</style>\n",
       "<table border=\"1\" class=\"dataframe\">\n",
       "  <thead>\n",
       "    <tr style=\"text-align: right;\">\n",
       "      <th></th>\n",
       "      <th>Index</th>\n",
       "      <th>Industry</th>\n",
       "      <th>VWAP</th>\n",
       "      <th>General Index</th>\n",
       "      <th>NAV</th>\n",
       "      <th>P/E Ratio</th>\n",
       "      <th>Volumes Traded</th>\n",
       "      <th>Inventory Turnover</th>\n",
       "      <th>Covid Impact (Beta)</th>\n",
       "      <th>Tracking Error</th>\n",
       "      <th>Dollar Exchange Rate</th>\n",
       "      <th>Put-Call Ratio</th>\n",
       "      <th>P/B Ratio</th>\n",
       "      <th>Stock Price</th>\n",
       "    </tr>\n",
       "  </thead>\n",
       "  <tbody>\n",
       "    <tr>\n",
       "      <th>0</th>\n",
       "      <td>3</td>\n",
       "      <td>4</td>\n",
       "      <td>700.29</td>\n",
       "      <td>12765.84</td>\n",
       "      <td>32.38</td>\n",
       "      <td>45.35</td>\n",
       "      <td>1208599.0</td>\n",
       "      <td>5.05</td>\n",
       "      <td>-0.43</td>\n",
       "      <td>0.0520</td>\n",
       "      <td>1.0</td>\n",
       "      <td>0.61</td>\n",
       "      <td>9.20</td>\n",
       "      <td>156.987852</td>\n",
       "    </tr>\n",
       "    <tr>\n",
       "      <th>1</th>\n",
       "      <td>3</td>\n",
       "      <td>2</td>\n",
       "      <td>214.52</td>\n",
       "      <td>12765.84</td>\n",
       "      <td>33.25</td>\n",
       "      <td>170.56</td>\n",
       "      <td>13753356.0</td>\n",
       "      <td>3.10</td>\n",
       "      <td>0.23</td>\n",
       "      <td>0.0164</td>\n",
       "      <td>1.0</td>\n",
       "      <td>0.61</td>\n",
       "      <td>6.91</td>\n",
       "      <td>560.859622</td>\n",
       "    </tr>\n",
       "    <tr>\n",
       "      <th>2</th>\n",
       "      <td>3</td>\n",
       "      <td>2</td>\n",
       "      <td>943.42</td>\n",
       "      <td>12765.84</td>\n",
       "      <td>88.27</td>\n",
       "      <td>143.58</td>\n",
       "      <td>6892003.0</td>\n",
       "      <td>7.70</td>\n",
       "      <td>0.23</td>\n",
       "      <td>0.0396</td>\n",
       "      <td>1.0</td>\n",
       "      <td>0.61</td>\n",
       "      <td>6.09</td>\n",
       "      <td>1279.732874</td>\n",
       "    </tr>\n",
       "    <tr>\n",
       "      <th>3</th>\n",
       "      <td>0</td>\n",
       "      <td>3</td>\n",
       "      <td>828.13</td>\n",
       "      <td>38182.08</td>\n",
       "      <td>73.66</td>\n",
       "      <td>151.76</td>\n",
       "      <td>8316793.0</td>\n",
       "      <td>4.80</td>\n",
       "      <td>0.03</td>\n",
       "      <td>0.0431</td>\n",
       "      <td>74.9</td>\n",
       "      <td>1.11</td>\n",
       "      <td>5.60</td>\n",
       "      <td>1121.787632</td>\n",
       "    </tr>\n",
       "    <tr>\n",
       "      <th>4</th>\n",
       "      <td>4</td>\n",
       "      <td>4</td>\n",
       "      <td>828.13</td>\n",
       "      <td>3351.28</td>\n",
       "      <td>23.79</td>\n",
       "      <td>151.76</td>\n",
       "      <td>3943312.0</td>\n",
       "      <td>8.06</td>\n",
       "      <td>-0.43</td>\n",
       "      <td>0.0244</td>\n",
       "      <td>1.0</td>\n",
       "      <td>1.07</td>\n",
       "      <td>9.46</td>\n",
       "      <td>382.962534</td>\n",
       "    </tr>\n",
       "  </tbody>\n",
       "</table>\n",
       "</div>"
      ],
      "text/plain": [
       "   Index  Industry    VWAP  General Index    NAV  P/E Ratio  Volumes Traded  \\\n",
       "0      3         4  700.29       12765.84  32.38      45.35       1208599.0   \n",
       "1      3         2  214.52       12765.84  33.25     170.56      13753356.0   \n",
       "2      3         2  943.42       12765.84  88.27     143.58       6892003.0   \n",
       "3      0         3  828.13       38182.08  73.66     151.76       8316793.0   \n",
       "4      4         4  828.13        3351.28  23.79     151.76       3943312.0   \n",
       "\n",
       "   Inventory Turnover  Covid Impact (Beta)  Tracking Error  \\\n",
       "0                5.05                -0.43          0.0520   \n",
       "1                3.10                 0.23          0.0164   \n",
       "2                7.70                 0.23          0.0396   \n",
       "3                4.80                 0.03          0.0431   \n",
       "4                8.06                -0.43          0.0244   \n",
       "\n",
       "   Dollar Exchange Rate  Put-Call Ratio  P/B Ratio  Stock Price  \n",
       "0                   1.0            0.61       9.20   156.987852  \n",
       "1                   1.0            0.61       6.91   560.859622  \n",
       "2                   1.0            0.61       6.09  1279.732874  \n",
       "3                  74.9            1.11       5.60  1121.787632  \n",
       "4                   1.0            1.07       9.46   382.962534  "
      ]
     },
     "execution_count": 27,
     "metadata": {},
     "output_type": "execute_result"
    }
   ],
   "source": [
    "df.head()"
   ]
  },
  {
   "cell_type": "markdown",
   "metadata": {},
   "source": [
    "## Test Dataset - Preprocessing"
   ]
  },
  {
   "cell_type": "code",
   "execution_count": 28,
   "metadata": {},
   "outputs": [
    {
     "data": {
      "text/html": [
       "<div>\n",
       "<style scoped>\n",
       "    .dataframe tbody tr th:only-of-type {\n",
       "        vertical-align: middle;\n",
       "    }\n",
       "\n",
       "    .dataframe tbody tr th {\n",
       "        vertical-align: top;\n",
       "    }\n",
       "\n",
       "    .dataframe thead th {\n",
       "        text-align: right;\n",
       "    }\n",
       "</style>\n",
       "<table border=\"1\" class=\"dataframe\">\n",
       "  <thead>\n",
       "    <tr style=\"text-align: right;\">\n",
       "      <th></th>\n",
       "      <th>Stock Index</th>\n",
       "      <th>Index</th>\n",
       "      <th>Industry</th>\n",
       "      <th>VWAP</th>\n",
       "      <th>General Index</th>\n",
       "      <th>NAV</th>\n",
       "      <th>P/E Ratio</th>\n",
       "      <th>Volumes Traded</th>\n",
       "      <th>Inventory Turnover</th>\n",
       "      <th>Covid Impact (Beta)</th>\n",
       "      <th>Tracking Error</th>\n",
       "      <th>Dollar Exchange Rate</th>\n",
       "      <th>Put-Call Ratio</th>\n",
       "      <th>P/B Ratio</th>\n",
       "    </tr>\n",
       "  </thead>\n",
       "  <tbody>\n",
       "    <tr>\n",
       "      <th>0</th>\n",
       "      <td>AC3235</td>\n",
       "      <td>NSE</td>\n",
       "      <td>Materials</td>\n",
       "      <td>53.30</td>\n",
       "      <td>11270.15</td>\n",
       "      <td>44.59</td>\n",
       "      <td>185.09</td>\n",
       "      <td>12067855.0</td>\n",
       "      <td>2.78</td>\n",
       "      <td>0.03</td>\n",
       "      <td>0.0330</td>\n",
       "      <td>74.9</td>\n",
       "      <td>0.80</td>\n",
       "      <td>4.66</td>\n",
       "    </tr>\n",
       "    <tr>\n",
       "      <th>1</th>\n",
       "      <td>AC3236</td>\n",
       "      <td>JSE</td>\n",
       "      <td>Energy</td>\n",
       "      <td>749.34</td>\n",
       "      <td>55722.00</td>\n",
       "      <td>74.20</td>\n",
       "      <td>34.01</td>\n",
       "      <td>6172474.0</td>\n",
       "      <td>6.78</td>\n",
       "      <td>0.11</td>\n",
       "      <td>0.0464</td>\n",
       "      <td>17.7</td>\n",
       "      <td>0.86</td>\n",
       "      <td>6.11</td>\n",
       "    </tr>\n",
       "    <tr>\n",
       "      <th>2</th>\n",
       "      <td>AC3237</td>\n",
       "      <td>S&amp;P 500</td>\n",
       "      <td>Information Tech</td>\n",
       "      <td>567.75</td>\n",
       "      <td>3351.28</td>\n",
       "      <td>88.41</td>\n",
       "      <td>177.40</td>\n",
       "      <td>17472488.0</td>\n",
       "      <td>4.36</td>\n",
       "      <td>0.23</td>\n",
       "      <td>0.0401</td>\n",
       "      <td>1.0</td>\n",
       "      <td>0.93</td>\n",
       "      <td>4.99</td>\n",
       "    </tr>\n",
       "    <tr>\n",
       "      <th>3</th>\n",
       "      <td>AC3238</td>\n",
       "      <td>NSE</td>\n",
       "      <td>Healthcare</td>\n",
       "      <td>646.78</td>\n",
       "      <td>11270.15</td>\n",
       "      <td>79.36</td>\n",
       "      <td>105.44</td>\n",
       "      <td>15553159.0</td>\n",
       "      <td>2.77</td>\n",
       "      <td>0.78</td>\n",
       "      <td>0.0187</td>\n",
       "      <td>74.9</td>\n",
       "      <td>1.09</td>\n",
       "      <td>1.26</td>\n",
       "    </tr>\n",
       "    <tr>\n",
       "      <th>4</th>\n",
       "      <td>AC3239</td>\n",
       "      <td>NYSE</td>\n",
       "      <td>Materials</td>\n",
       "      <td>380.33</td>\n",
       "      <td>12765.84</td>\n",
       "      <td>19.90</td>\n",
       "      <td>139.40</td>\n",
       "      <td>12525784.0</td>\n",
       "      <td>5.93</td>\n",
       "      <td>0.03</td>\n",
       "      <td>0.0261</td>\n",
       "      <td>1.0</td>\n",
       "      <td>NaN</td>\n",
       "      <td>6.18</td>\n",
       "    </tr>\n",
       "  </tbody>\n",
       "</table>\n",
       "</div>"
      ],
      "text/plain": [
       "  Stock Index    Index          Industry    VWAP  General Index    NAV  \\\n",
       "0      AC3235      NSE         Materials   53.30       11270.15  44.59   \n",
       "1      AC3236      JSE            Energy  749.34       55722.00  74.20   \n",
       "2      AC3237  S&P 500  Information Tech  567.75        3351.28  88.41   \n",
       "3      AC3238      NSE        Healthcare  646.78       11270.15  79.36   \n",
       "4      AC3239     NYSE         Materials  380.33       12765.84  19.90   \n",
       "\n",
       "   P/E Ratio  Volumes Traded  Inventory Turnover  Covid Impact (Beta)  \\\n",
       "0     185.09      12067855.0                2.78                 0.03   \n",
       "1      34.01       6172474.0                6.78                 0.11   \n",
       "2     177.40      17472488.0                4.36                 0.23   \n",
       "3     105.44      15553159.0                2.77                 0.78   \n",
       "4     139.40      12525784.0                5.93                 0.03   \n",
       "\n",
       "   Tracking Error  Dollar Exchange Rate  Put-Call Ratio  P/B Ratio  \n",
       "0          0.0330                  74.9            0.80       4.66  \n",
       "1          0.0464                  17.7            0.86       6.11  \n",
       "2          0.0401                   1.0            0.93       4.99  \n",
       "3          0.0187                  74.9            1.09       1.26  \n",
       "4          0.0261                   1.0             NaN       6.18  "
      ]
     },
     "execution_count": 28,
     "metadata": {},
     "output_type": "execute_result"
    }
   ],
   "source": [
    "df1.head()"
   ]
  },
  {
   "cell_type": "code",
   "execution_count": 29,
   "metadata": {},
   "outputs": [
    {
     "data": {
      "text/plain": [
       "(3331, 14)"
      ]
     },
     "execution_count": 29,
     "metadata": {},
     "output_type": "execute_result"
    }
   ],
   "source": [
    "df1.shape"
   ]
  },
  {
   "cell_type": "markdown",
   "metadata": {},
   "source": [
    "### Dropping of unwanted features/attributes"
   ]
  },
  {
   "cell_type": "code",
   "execution_count": 30,
   "metadata": {},
   "outputs": [],
   "source": [
    "a = df1['Stock Index']"
   ]
  },
  {
   "cell_type": "code",
   "execution_count": 31,
   "metadata": {},
   "outputs": [],
   "source": [
    "df1.drop([\"Stock Index\"], axis = 1, inplace = True)"
   ]
  },
  {
   "cell_type": "code",
   "execution_count": 32,
   "metadata": {},
   "outputs": [
    {
     "data": {
      "text/html": [
       "<div>\n",
       "<style scoped>\n",
       "    .dataframe tbody tr th:only-of-type {\n",
       "        vertical-align: middle;\n",
       "    }\n",
       "\n",
       "    .dataframe tbody tr th {\n",
       "        vertical-align: top;\n",
       "    }\n",
       "\n",
       "    .dataframe thead th {\n",
       "        text-align: right;\n",
       "    }\n",
       "</style>\n",
       "<table border=\"1\" class=\"dataframe\">\n",
       "  <thead>\n",
       "    <tr style=\"text-align: right;\">\n",
       "      <th></th>\n",
       "      <th>Index</th>\n",
       "      <th>Industry</th>\n",
       "      <th>VWAP</th>\n",
       "      <th>General Index</th>\n",
       "      <th>NAV</th>\n",
       "      <th>P/E Ratio</th>\n",
       "      <th>Volumes Traded</th>\n",
       "      <th>Inventory Turnover</th>\n",
       "      <th>Covid Impact (Beta)</th>\n",
       "      <th>Tracking Error</th>\n",
       "      <th>Dollar Exchange Rate</th>\n",
       "      <th>Put-Call Ratio</th>\n",
       "      <th>P/B Ratio</th>\n",
       "    </tr>\n",
       "  </thead>\n",
       "  <tbody>\n",
       "    <tr>\n",
       "      <th>0</th>\n",
       "      <td>NSE</td>\n",
       "      <td>Materials</td>\n",
       "      <td>53.30</td>\n",
       "      <td>11270.15</td>\n",
       "      <td>44.59</td>\n",
       "      <td>185.09</td>\n",
       "      <td>12067855.0</td>\n",
       "      <td>2.78</td>\n",
       "      <td>0.03</td>\n",
       "      <td>0.0330</td>\n",
       "      <td>74.9</td>\n",
       "      <td>0.80</td>\n",
       "      <td>4.66</td>\n",
       "    </tr>\n",
       "    <tr>\n",
       "      <th>1</th>\n",
       "      <td>JSE</td>\n",
       "      <td>Energy</td>\n",
       "      <td>749.34</td>\n",
       "      <td>55722.00</td>\n",
       "      <td>74.20</td>\n",
       "      <td>34.01</td>\n",
       "      <td>6172474.0</td>\n",
       "      <td>6.78</td>\n",
       "      <td>0.11</td>\n",
       "      <td>0.0464</td>\n",
       "      <td>17.7</td>\n",
       "      <td>0.86</td>\n",
       "      <td>6.11</td>\n",
       "    </tr>\n",
       "    <tr>\n",
       "      <th>2</th>\n",
       "      <td>S&amp;P 500</td>\n",
       "      <td>Information Tech</td>\n",
       "      <td>567.75</td>\n",
       "      <td>3351.28</td>\n",
       "      <td>88.41</td>\n",
       "      <td>177.40</td>\n",
       "      <td>17472488.0</td>\n",
       "      <td>4.36</td>\n",
       "      <td>0.23</td>\n",
       "      <td>0.0401</td>\n",
       "      <td>1.0</td>\n",
       "      <td>0.93</td>\n",
       "      <td>4.99</td>\n",
       "    </tr>\n",
       "    <tr>\n",
       "      <th>3</th>\n",
       "      <td>NSE</td>\n",
       "      <td>Healthcare</td>\n",
       "      <td>646.78</td>\n",
       "      <td>11270.15</td>\n",
       "      <td>79.36</td>\n",
       "      <td>105.44</td>\n",
       "      <td>15553159.0</td>\n",
       "      <td>2.77</td>\n",
       "      <td>0.78</td>\n",
       "      <td>0.0187</td>\n",
       "      <td>74.9</td>\n",
       "      <td>1.09</td>\n",
       "      <td>1.26</td>\n",
       "    </tr>\n",
       "    <tr>\n",
       "      <th>4</th>\n",
       "      <td>NYSE</td>\n",
       "      <td>Materials</td>\n",
       "      <td>380.33</td>\n",
       "      <td>12765.84</td>\n",
       "      <td>19.90</td>\n",
       "      <td>139.40</td>\n",
       "      <td>12525784.0</td>\n",
       "      <td>5.93</td>\n",
       "      <td>0.03</td>\n",
       "      <td>0.0261</td>\n",
       "      <td>1.0</td>\n",
       "      <td>NaN</td>\n",
       "      <td>6.18</td>\n",
       "    </tr>\n",
       "  </tbody>\n",
       "</table>\n",
       "</div>"
      ],
      "text/plain": [
       "     Index          Industry    VWAP  General Index    NAV  P/E Ratio  \\\n",
       "0      NSE         Materials   53.30       11270.15  44.59     185.09   \n",
       "1      JSE            Energy  749.34       55722.00  74.20      34.01   \n",
       "2  S&P 500  Information Tech  567.75        3351.28  88.41     177.40   \n",
       "3      NSE        Healthcare  646.78       11270.15  79.36     105.44   \n",
       "4     NYSE         Materials  380.33       12765.84  19.90     139.40   \n",
       "\n",
       "   Volumes Traded  Inventory Turnover  Covid Impact (Beta)  Tracking Error  \\\n",
       "0      12067855.0                2.78                 0.03          0.0330   \n",
       "1       6172474.0                6.78                 0.11          0.0464   \n",
       "2      17472488.0                4.36                 0.23          0.0401   \n",
       "3      15553159.0                2.77                 0.78          0.0187   \n",
       "4      12525784.0                5.93                 0.03          0.0261   \n",
       "\n",
       "   Dollar Exchange Rate  Put-Call Ratio  P/B Ratio  \n",
       "0                  74.9            0.80       4.66  \n",
       "1                  17.7            0.86       6.11  \n",
       "2                   1.0            0.93       4.99  \n",
       "3                  74.9            1.09       1.26  \n",
       "4                   1.0             NaN       6.18  "
      ]
     },
     "execution_count": 32,
     "metadata": {},
     "output_type": "execute_result"
    }
   ],
   "source": [
    "df1.head()"
   ]
  },
  {
   "cell_type": "markdown",
   "metadata": {},
   "source": [
    "### Filling the missing values"
   ]
  },
  {
   "cell_type": "code",
   "execution_count": 33,
   "metadata": {},
   "outputs": [
    {
     "data": {
      "text/plain": [
       "VWAP                     12\n",
       "General Index           271\n",
       "NAV                     275\n",
       "P/E Ratio               292\n",
       "Volumes Traded           48\n",
       "Inventory Turnover       30\n",
       "Covid Impact (Beta)      31\n",
       "Tracking Error          126\n",
       "Dollar Exchange Rate    143\n",
       "Put-Call Ratio          429\n",
       "P/B Ratio               138\n",
       "dtype: int64"
      ]
     },
     "execution_count": 33,
     "metadata": {},
     "output_type": "execute_result"
    }
   ],
   "source": [
    "df1_null = df1.columns[df1.isnull().any()]\n",
    "df1[df1_null].isnull().sum()"
   ]
  },
  {
   "cell_type": "code",
   "execution_count": 34,
   "metadata": {},
   "outputs": [],
   "source": [
    "df1[\"VWAP\"].fillna(method ='ffill', inplace = True)\n",
    "df1[\"General Index\"].fillna(method ='ffill', inplace = True)\n",
    "df1[\"NAV\"].fillna(method ='ffill', inplace = True)\n",
    "df1[\"P/E Ratio\"].fillna(method ='ffill', inplace = True)\n",
    "df1[\"Volumes Traded\"].fillna(method ='ffill', inplace = True)\n",
    "df1[\"Inventory Turnover\"].fillna(method ='ffill', inplace = True)\n",
    "df1[\"Covid Impact (Beta)\"].fillna(method ='ffill', inplace = True)\n",
    "df1[\"Tracking Error\"].fillna(method ='ffill', inplace = True)\n",
    "df1[\"Dollar Exchange Rate\"].fillna(method ='ffill', inplace = True)\n",
    "df1[\"Put-Call Ratio\"].fillna(method ='ffill', inplace = True)\n",
    "df1[\"P/B Ratio\"].fillna(method ='ffill', inplace = True)"
   ]
  },
  {
   "cell_type": "code",
   "execution_count": 35,
   "metadata": {},
   "outputs": [
    {
     "data": {
      "text/html": [
       "<div>\n",
       "<style scoped>\n",
       "    .dataframe tbody tr th:only-of-type {\n",
       "        vertical-align: middle;\n",
       "    }\n",
       "\n",
       "    .dataframe tbody tr th {\n",
       "        vertical-align: top;\n",
       "    }\n",
       "\n",
       "    .dataframe thead th {\n",
       "        text-align: right;\n",
       "    }\n",
       "</style>\n",
       "<table border=\"1\" class=\"dataframe\">\n",
       "  <thead>\n",
       "    <tr style=\"text-align: right;\">\n",
       "      <th></th>\n",
       "      <th>Index</th>\n",
       "      <th>Industry</th>\n",
       "      <th>VWAP</th>\n",
       "      <th>General Index</th>\n",
       "      <th>NAV</th>\n",
       "      <th>P/E Ratio</th>\n",
       "      <th>Volumes Traded</th>\n",
       "      <th>Inventory Turnover</th>\n",
       "      <th>Covid Impact (Beta)</th>\n",
       "      <th>Tracking Error</th>\n",
       "      <th>Dollar Exchange Rate</th>\n",
       "      <th>Put-Call Ratio</th>\n",
       "      <th>P/B Ratio</th>\n",
       "    </tr>\n",
       "  </thead>\n",
       "  <tbody>\n",
       "    <tr>\n",
       "      <th>0</th>\n",
       "      <td>NSE</td>\n",
       "      <td>Materials</td>\n",
       "      <td>53.30</td>\n",
       "      <td>11270.15</td>\n",
       "      <td>44.59</td>\n",
       "      <td>185.09</td>\n",
       "      <td>12067855.0</td>\n",
       "      <td>2.78</td>\n",
       "      <td>0.03</td>\n",
       "      <td>0.0330</td>\n",
       "      <td>74.9</td>\n",
       "      <td>0.80</td>\n",
       "      <td>4.66</td>\n",
       "    </tr>\n",
       "    <tr>\n",
       "      <th>1</th>\n",
       "      <td>JSE</td>\n",
       "      <td>Energy</td>\n",
       "      <td>749.34</td>\n",
       "      <td>55722.00</td>\n",
       "      <td>74.20</td>\n",
       "      <td>34.01</td>\n",
       "      <td>6172474.0</td>\n",
       "      <td>6.78</td>\n",
       "      <td>0.11</td>\n",
       "      <td>0.0464</td>\n",
       "      <td>17.7</td>\n",
       "      <td>0.86</td>\n",
       "      <td>6.11</td>\n",
       "    </tr>\n",
       "    <tr>\n",
       "      <th>2</th>\n",
       "      <td>S&amp;P 500</td>\n",
       "      <td>Information Tech</td>\n",
       "      <td>567.75</td>\n",
       "      <td>3351.28</td>\n",
       "      <td>88.41</td>\n",
       "      <td>177.40</td>\n",
       "      <td>17472488.0</td>\n",
       "      <td>4.36</td>\n",
       "      <td>0.23</td>\n",
       "      <td>0.0401</td>\n",
       "      <td>1.0</td>\n",
       "      <td>0.93</td>\n",
       "      <td>4.99</td>\n",
       "    </tr>\n",
       "    <tr>\n",
       "      <th>3</th>\n",
       "      <td>NSE</td>\n",
       "      <td>Healthcare</td>\n",
       "      <td>646.78</td>\n",
       "      <td>11270.15</td>\n",
       "      <td>79.36</td>\n",
       "      <td>105.44</td>\n",
       "      <td>15553159.0</td>\n",
       "      <td>2.77</td>\n",
       "      <td>0.78</td>\n",
       "      <td>0.0187</td>\n",
       "      <td>74.9</td>\n",
       "      <td>1.09</td>\n",
       "      <td>1.26</td>\n",
       "    </tr>\n",
       "    <tr>\n",
       "      <th>4</th>\n",
       "      <td>NYSE</td>\n",
       "      <td>Materials</td>\n",
       "      <td>380.33</td>\n",
       "      <td>12765.84</td>\n",
       "      <td>19.90</td>\n",
       "      <td>139.40</td>\n",
       "      <td>12525784.0</td>\n",
       "      <td>5.93</td>\n",
       "      <td>0.03</td>\n",
       "      <td>0.0261</td>\n",
       "      <td>1.0</td>\n",
       "      <td>1.09</td>\n",
       "      <td>6.18</td>\n",
       "    </tr>\n",
       "  </tbody>\n",
       "</table>\n",
       "</div>"
      ],
      "text/plain": [
       "     Index          Industry    VWAP  General Index    NAV  P/E Ratio  \\\n",
       "0      NSE         Materials   53.30       11270.15  44.59     185.09   \n",
       "1      JSE            Energy  749.34       55722.00  74.20      34.01   \n",
       "2  S&P 500  Information Tech  567.75        3351.28  88.41     177.40   \n",
       "3      NSE        Healthcare  646.78       11270.15  79.36     105.44   \n",
       "4     NYSE         Materials  380.33       12765.84  19.90     139.40   \n",
       "\n",
       "   Volumes Traded  Inventory Turnover  Covid Impact (Beta)  Tracking Error  \\\n",
       "0      12067855.0                2.78                 0.03          0.0330   \n",
       "1       6172474.0                6.78                 0.11          0.0464   \n",
       "2      17472488.0                4.36                 0.23          0.0401   \n",
       "3      15553159.0                2.77                 0.78          0.0187   \n",
       "4      12525784.0                5.93                 0.03          0.0261   \n",
       "\n",
       "   Dollar Exchange Rate  Put-Call Ratio  P/B Ratio  \n",
       "0                  74.9            0.80       4.66  \n",
       "1                  17.7            0.86       6.11  \n",
       "2                   1.0            0.93       4.99  \n",
       "3                  74.9            1.09       1.26  \n",
       "4                   1.0            1.09       6.18  "
      ]
     },
     "execution_count": 35,
     "metadata": {},
     "output_type": "execute_result"
    }
   ],
   "source": [
    "df1.head()"
   ]
  },
  {
   "cell_type": "markdown",
   "metadata": {},
   "source": [
    "### Using LabelEncoder to convert Categorical Values into Numerical"
   ]
  },
  {
   "cell_type": "code",
   "execution_count": 36,
   "metadata": {},
   "outputs": [
    {
     "data": {
      "text/plain": [
       "['Index', 'Industry']"
      ]
     },
     "execution_count": 36,
     "metadata": {},
     "output_type": "execute_result"
    }
   ],
   "source": [
    "df1_ctgcol = list(df1.select_dtypes(exclude = [\"number\"]).columns)\n",
    "df1_ctgcol"
   ]
  },
  {
   "cell_type": "code",
   "execution_count": 37,
   "metadata": {},
   "outputs": [
    {
     "name": "stdout",
     "output_type": "stream",
     "text": [
      "['NSE' 'JSE' 'S&P 500' 'NYSE' 'BSE']\n",
      "[2 1 4 3 0]\n",
      "['Materials' 'Energy' 'Information Tech' 'Healthcare' 'Real Estate']\n",
      "[3 0 2 1 4]\n"
     ]
    }
   ],
   "source": [
    "le = LabelEncoder()\n",
    "for i in df1_ctgcol:\n",
    "    print(df1[i].unique())\n",
    "    df1[i] = le.fit_transform(df1[i])\n",
    "    print(df1[i].unique())"
   ]
  },
  {
   "cell_type": "code",
   "execution_count": 38,
   "metadata": {},
   "outputs": [
    {
     "data": {
      "text/html": [
       "<div>\n",
       "<style scoped>\n",
       "    .dataframe tbody tr th:only-of-type {\n",
       "        vertical-align: middle;\n",
       "    }\n",
       "\n",
       "    .dataframe tbody tr th {\n",
       "        vertical-align: top;\n",
       "    }\n",
       "\n",
       "    .dataframe thead th {\n",
       "        text-align: right;\n",
       "    }\n",
       "</style>\n",
       "<table border=\"1\" class=\"dataframe\">\n",
       "  <thead>\n",
       "    <tr style=\"text-align: right;\">\n",
       "      <th></th>\n",
       "      <th>Index</th>\n",
       "      <th>Industry</th>\n",
       "      <th>VWAP</th>\n",
       "      <th>General Index</th>\n",
       "      <th>NAV</th>\n",
       "      <th>P/E Ratio</th>\n",
       "      <th>Volumes Traded</th>\n",
       "      <th>Inventory Turnover</th>\n",
       "      <th>Covid Impact (Beta)</th>\n",
       "      <th>Tracking Error</th>\n",
       "      <th>Dollar Exchange Rate</th>\n",
       "      <th>Put-Call Ratio</th>\n",
       "      <th>P/B Ratio</th>\n",
       "    </tr>\n",
       "  </thead>\n",
       "  <tbody>\n",
       "    <tr>\n",
       "      <th>0</th>\n",
       "      <td>2</td>\n",
       "      <td>3</td>\n",
       "      <td>53.30</td>\n",
       "      <td>11270.15</td>\n",
       "      <td>44.59</td>\n",
       "      <td>185.09</td>\n",
       "      <td>12067855.0</td>\n",
       "      <td>2.78</td>\n",
       "      <td>0.03</td>\n",
       "      <td>0.0330</td>\n",
       "      <td>74.9</td>\n",
       "      <td>0.80</td>\n",
       "      <td>4.66</td>\n",
       "    </tr>\n",
       "    <tr>\n",
       "      <th>1</th>\n",
       "      <td>1</td>\n",
       "      <td>0</td>\n",
       "      <td>749.34</td>\n",
       "      <td>55722.00</td>\n",
       "      <td>74.20</td>\n",
       "      <td>34.01</td>\n",
       "      <td>6172474.0</td>\n",
       "      <td>6.78</td>\n",
       "      <td>0.11</td>\n",
       "      <td>0.0464</td>\n",
       "      <td>17.7</td>\n",
       "      <td>0.86</td>\n",
       "      <td>6.11</td>\n",
       "    </tr>\n",
       "    <tr>\n",
       "      <th>2</th>\n",
       "      <td>4</td>\n",
       "      <td>2</td>\n",
       "      <td>567.75</td>\n",
       "      <td>3351.28</td>\n",
       "      <td>88.41</td>\n",
       "      <td>177.40</td>\n",
       "      <td>17472488.0</td>\n",
       "      <td>4.36</td>\n",
       "      <td>0.23</td>\n",
       "      <td>0.0401</td>\n",
       "      <td>1.0</td>\n",
       "      <td>0.93</td>\n",
       "      <td>4.99</td>\n",
       "    </tr>\n",
       "    <tr>\n",
       "      <th>3</th>\n",
       "      <td>2</td>\n",
       "      <td>1</td>\n",
       "      <td>646.78</td>\n",
       "      <td>11270.15</td>\n",
       "      <td>79.36</td>\n",
       "      <td>105.44</td>\n",
       "      <td>15553159.0</td>\n",
       "      <td>2.77</td>\n",
       "      <td>0.78</td>\n",
       "      <td>0.0187</td>\n",
       "      <td>74.9</td>\n",
       "      <td>1.09</td>\n",
       "      <td>1.26</td>\n",
       "    </tr>\n",
       "    <tr>\n",
       "      <th>4</th>\n",
       "      <td>3</td>\n",
       "      <td>3</td>\n",
       "      <td>380.33</td>\n",
       "      <td>12765.84</td>\n",
       "      <td>19.90</td>\n",
       "      <td>139.40</td>\n",
       "      <td>12525784.0</td>\n",
       "      <td>5.93</td>\n",
       "      <td>0.03</td>\n",
       "      <td>0.0261</td>\n",
       "      <td>1.0</td>\n",
       "      <td>1.09</td>\n",
       "      <td>6.18</td>\n",
       "    </tr>\n",
       "  </tbody>\n",
       "</table>\n",
       "</div>"
      ],
      "text/plain": [
       "   Index  Industry    VWAP  General Index    NAV  P/E Ratio  Volumes Traded  \\\n",
       "0      2         3   53.30       11270.15  44.59     185.09      12067855.0   \n",
       "1      1         0  749.34       55722.00  74.20      34.01       6172474.0   \n",
       "2      4         2  567.75        3351.28  88.41     177.40      17472488.0   \n",
       "3      2         1  646.78       11270.15  79.36     105.44      15553159.0   \n",
       "4      3         3  380.33       12765.84  19.90     139.40      12525784.0   \n",
       "\n",
       "   Inventory Turnover  Covid Impact (Beta)  Tracking Error  \\\n",
       "0                2.78                 0.03          0.0330   \n",
       "1                6.78                 0.11          0.0464   \n",
       "2                4.36                 0.23          0.0401   \n",
       "3                2.77                 0.78          0.0187   \n",
       "4                5.93                 0.03          0.0261   \n",
       "\n",
       "   Dollar Exchange Rate  Put-Call Ratio  P/B Ratio  \n",
       "0                  74.9            0.80       4.66  \n",
       "1                  17.7            0.86       6.11  \n",
       "2                   1.0            0.93       4.99  \n",
       "3                  74.9            1.09       1.26  \n",
       "4                   1.0            1.09       6.18  "
      ]
     },
     "execution_count": 38,
     "metadata": {},
     "output_type": "execute_result"
    }
   ],
   "source": [
    "df1.head()"
   ]
  },
  {
   "cell_type": "code",
   "execution_count": 39,
   "metadata": {},
   "outputs": [
    {
     "data": {
      "text/plain": [
       "((7383, 14), (3331, 13))"
      ]
     },
     "execution_count": 39,
     "metadata": {},
     "output_type": "execute_result"
    }
   ],
   "source": [
    "df.shape, df1.shape"
   ]
  },
  {
   "cell_type": "code",
   "execution_count": 40,
   "metadata": {},
   "outputs": [
    {
     "name": "stdout",
     "output_type": "stream",
     "text": [
      "0\n"
     ]
    },
    {
     "name": "stderr",
     "output_type": "stream",
     "text": [
      "<ipython-input-40-c5544f203b80>:3: SettingWithCopyWarning: \n",
      "A value is trying to be set on a copy of a slice from a DataFrame\n",
      "\n",
      "See the caveats in the documentation: https://pandas.pydata.org/pandas-docs/stable/user_guide/indexing.html#returning-a-view-versus-a-copy\n",
      "  df['Put-Call Ratio'][i] = vals[i][0]\n"
     ]
    }
   ],
   "source": [
    "for i in range(len(vals)):\n",
    "    print(i)\n",
    "    df['Put-Call Ratio'][i] = vals[i][0]"
   ]
  },
  {
   "cell_type": "code",
   "execution_count": 41,
   "metadata": {},
   "outputs": [
    {
     "data": {
      "text/html": [
       "<div>\n",
       "<style scoped>\n",
       "    .dataframe tbody tr th:only-of-type {\n",
       "        vertical-align: middle;\n",
       "    }\n",
       "\n",
       "    .dataframe tbody tr th {\n",
       "        vertical-align: top;\n",
       "    }\n",
       "\n",
       "    .dataframe thead th {\n",
       "        text-align: right;\n",
       "    }\n",
       "</style>\n",
       "<table border=\"1\" class=\"dataframe\">\n",
       "  <thead>\n",
       "    <tr style=\"text-align: right;\">\n",
       "      <th></th>\n",
       "      <th>Index</th>\n",
       "      <th>Industry</th>\n",
       "      <th>VWAP</th>\n",
       "      <th>General Index</th>\n",
       "      <th>NAV</th>\n",
       "      <th>P/E Ratio</th>\n",
       "      <th>Volumes Traded</th>\n",
       "      <th>Inventory Turnover</th>\n",
       "      <th>Covid Impact (Beta)</th>\n",
       "      <th>Tracking Error</th>\n",
       "      <th>Dollar Exchange Rate</th>\n",
       "      <th>Put-Call Ratio</th>\n",
       "      <th>P/B Ratio</th>\n",
       "      <th>Stock Price</th>\n",
       "    </tr>\n",
       "  </thead>\n",
       "  <tbody>\n",
       "    <tr>\n",
       "      <th>0</th>\n",
       "      <td>3</td>\n",
       "      <td>4</td>\n",
       "      <td>700.29</td>\n",
       "      <td>12765.84</td>\n",
       "      <td>32.38</td>\n",
       "      <td>45.35</td>\n",
       "      <td>1208599.0</td>\n",
       "      <td>5.05</td>\n",
       "      <td>-0.43</td>\n",
       "      <td>0.0520</td>\n",
       "      <td>1.0</td>\n",
       "      <td>0.895728</td>\n",
       "      <td>9.20</td>\n",
       "      <td>156.987852</td>\n",
       "    </tr>\n",
       "    <tr>\n",
       "      <th>1</th>\n",
       "      <td>3</td>\n",
       "      <td>2</td>\n",
       "      <td>214.52</td>\n",
       "      <td>12765.84</td>\n",
       "      <td>33.25</td>\n",
       "      <td>170.56</td>\n",
       "      <td>13753356.0</td>\n",
       "      <td>3.10</td>\n",
       "      <td>0.23</td>\n",
       "      <td>0.0164</td>\n",
       "      <td>1.0</td>\n",
       "      <td>0.610000</td>\n",
       "      <td>6.91</td>\n",
       "      <td>560.859622</td>\n",
       "    </tr>\n",
       "    <tr>\n",
       "      <th>2</th>\n",
       "      <td>3</td>\n",
       "      <td>2</td>\n",
       "      <td>943.42</td>\n",
       "      <td>12765.84</td>\n",
       "      <td>88.27</td>\n",
       "      <td>143.58</td>\n",
       "      <td>6892003.0</td>\n",
       "      <td>7.70</td>\n",
       "      <td>0.23</td>\n",
       "      <td>0.0396</td>\n",
       "      <td>1.0</td>\n",
       "      <td>0.610000</td>\n",
       "      <td>6.09</td>\n",
       "      <td>1279.732874</td>\n",
       "    </tr>\n",
       "    <tr>\n",
       "      <th>3</th>\n",
       "      <td>0</td>\n",
       "      <td>3</td>\n",
       "      <td>828.13</td>\n",
       "      <td>38182.08</td>\n",
       "      <td>73.66</td>\n",
       "      <td>151.76</td>\n",
       "      <td>8316793.0</td>\n",
       "      <td>4.80</td>\n",
       "      <td>0.03</td>\n",
       "      <td>0.0431</td>\n",
       "      <td>74.9</td>\n",
       "      <td>1.110000</td>\n",
       "      <td>5.60</td>\n",
       "      <td>1121.787632</td>\n",
       "    </tr>\n",
       "    <tr>\n",
       "      <th>4</th>\n",
       "      <td>4</td>\n",
       "      <td>4</td>\n",
       "      <td>828.13</td>\n",
       "      <td>3351.28</td>\n",
       "      <td>23.79</td>\n",
       "      <td>151.76</td>\n",
       "      <td>3943312.0</td>\n",
       "      <td>8.06</td>\n",
       "      <td>-0.43</td>\n",
       "      <td>0.0244</td>\n",
       "      <td>1.0</td>\n",
       "      <td>1.070000</td>\n",
       "      <td>9.46</td>\n",
       "      <td>382.962534</td>\n",
       "    </tr>\n",
       "  </tbody>\n",
       "</table>\n",
       "</div>"
      ],
      "text/plain": [
       "   Index  Industry    VWAP  General Index    NAV  P/E Ratio  Volumes Traded  \\\n",
       "0      3         4  700.29       12765.84  32.38      45.35       1208599.0   \n",
       "1      3         2  214.52       12765.84  33.25     170.56      13753356.0   \n",
       "2      3         2  943.42       12765.84  88.27     143.58       6892003.0   \n",
       "3      0         3  828.13       38182.08  73.66     151.76       8316793.0   \n",
       "4      4         4  828.13        3351.28  23.79     151.76       3943312.0   \n",
       "\n",
       "   Inventory Turnover  Covid Impact (Beta)  Tracking Error  \\\n",
       "0                5.05                -0.43          0.0520   \n",
       "1                3.10                 0.23          0.0164   \n",
       "2                7.70                 0.23          0.0396   \n",
       "3                4.80                 0.03          0.0431   \n",
       "4                8.06                -0.43          0.0244   \n",
       "\n",
       "   Dollar Exchange Rate  Put-Call Ratio  P/B Ratio  Stock Price  \n",
       "0                   1.0        0.895728       9.20   156.987852  \n",
       "1                   1.0        0.610000       6.91   560.859622  \n",
       "2                   1.0        0.610000       6.09  1279.732874  \n",
       "3                  74.9        1.110000       5.60  1121.787632  \n",
       "4                   1.0        1.070000       9.46   382.962534  "
      ]
     },
     "execution_count": 41,
     "metadata": {},
     "output_type": "execute_result"
    }
   ],
   "source": [
    "df.head()"
   ]
  },
  {
   "cell_type": "code",
   "execution_count": 42,
   "metadata": {},
   "outputs": [
    {
     "data": {
      "text/plain": [
       "Series([], dtype: float64)"
      ]
     },
     "execution_count": 42,
     "metadata": {},
     "output_type": "execute_result"
    }
   ],
   "source": [
    "df_null = df.columns[df.isnull().any()]\n",
    "df[df_null].isnull().sum()"
   ]
  },
  {
   "cell_type": "code",
   "execution_count": 43,
   "metadata": {},
   "outputs": [
    {
     "data": {
      "text/html": [
       "<div>\n",
       "<style scoped>\n",
       "    .dataframe tbody tr th:only-of-type {\n",
       "        vertical-align: middle;\n",
       "    }\n",
       "\n",
       "    .dataframe tbody tr th {\n",
       "        vertical-align: top;\n",
       "    }\n",
       "\n",
       "    .dataframe thead th {\n",
       "        text-align: right;\n",
       "    }\n",
       "</style>\n",
       "<table border=\"1\" class=\"dataframe\">\n",
       "  <thead>\n",
       "    <tr style=\"text-align: right;\">\n",
       "      <th></th>\n",
       "      <th>Index</th>\n",
       "      <th>Industry</th>\n",
       "      <th>VWAP</th>\n",
       "      <th>General Index</th>\n",
       "      <th>NAV</th>\n",
       "      <th>P/E Ratio</th>\n",
       "      <th>Volumes Traded</th>\n",
       "      <th>Inventory Turnover</th>\n",
       "      <th>Covid Impact (Beta)</th>\n",
       "      <th>Tracking Error</th>\n",
       "      <th>Dollar Exchange Rate</th>\n",
       "      <th>Put-Call Ratio</th>\n",
       "      <th>P/B Ratio</th>\n",
       "    </tr>\n",
       "  </thead>\n",
       "  <tbody>\n",
       "    <tr>\n",
       "      <th>0</th>\n",
       "      <td>2</td>\n",
       "      <td>3</td>\n",
       "      <td>53.30</td>\n",
       "      <td>11270.15</td>\n",
       "      <td>44.59</td>\n",
       "      <td>185.09</td>\n",
       "      <td>12067855.0</td>\n",
       "      <td>2.78</td>\n",
       "      <td>0.03</td>\n",
       "      <td>0.0330</td>\n",
       "      <td>74.9</td>\n",
       "      <td>0.80</td>\n",
       "      <td>4.66</td>\n",
       "    </tr>\n",
       "    <tr>\n",
       "      <th>1</th>\n",
       "      <td>1</td>\n",
       "      <td>0</td>\n",
       "      <td>749.34</td>\n",
       "      <td>55722.00</td>\n",
       "      <td>74.20</td>\n",
       "      <td>34.01</td>\n",
       "      <td>6172474.0</td>\n",
       "      <td>6.78</td>\n",
       "      <td>0.11</td>\n",
       "      <td>0.0464</td>\n",
       "      <td>17.7</td>\n",
       "      <td>0.86</td>\n",
       "      <td>6.11</td>\n",
       "    </tr>\n",
       "    <tr>\n",
       "      <th>2</th>\n",
       "      <td>4</td>\n",
       "      <td>2</td>\n",
       "      <td>567.75</td>\n",
       "      <td>3351.28</td>\n",
       "      <td>88.41</td>\n",
       "      <td>177.40</td>\n",
       "      <td>17472488.0</td>\n",
       "      <td>4.36</td>\n",
       "      <td>0.23</td>\n",
       "      <td>0.0401</td>\n",
       "      <td>1.0</td>\n",
       "      <td>0.93</td>\n",
       "      <td>4.99</td>\n",
       "    </tr>\n",
       "    <tr>\n",
       "      <th>3</th>\n",
       "      <td>2</td>\n",
       "      <td>1</td>\n",
       "      <td>646.78</td>\n",
       "      <td>11270.15</td>\n",
       "      <td>79.36</td>\n",
       "      <td>105.44</td>\n",
       "      <td>15553159.0</td>\n",
       "      <td>2.77</td>\n",
       "      <td>0.78</td>\n",
       "      <td>0.0187</td>\n",
       "      <td>74.9</td>\n",
       "      <td>1.09</td>\n",
       "      <td>1.26</td>\n",
       "    </tr>\n",
       "    <tr>\n",
       "      <th>4</th>\n",
       "      <td>3</td>\n",
       "      <td>3</td>\n",
       "      <td>380.33</td>\n",
       "      <td>12765.84</td>\n",
       "      <td>19.90</td>\n",
       "      <td>139.40</td>\n",
       "      <td>12525784.0</td>\n",
       "      <td>5.93</td>\n",
       "      <td>0.03</td>\n",
       "      <td>0.0261</td>\n",
       "      <td>1.0</td>\n",
       "      <td>1.09</td>\n",
       "      <td>6.18</td>\n",
       "    </tr>\n",
       "  </tbody>\n",
       "</table>\n",
       "</div>"
      ],
      "text/plain": [
       "   Index  Industry    VWAP  General Index    NAV  P/E Ratio  Volumes Traded  \\\n",
       "0      2         3   53.30       11270.15  44.59     185.09      12067855.0   \n",
       "1      1         0  749.34       55722.00  74.20      34.01       6172474.0   \n",
       "2      4         2  567.75        3351.28  88.41     177.40      17472488.0   \n",
       "3      2         1  646.78       11270.15  79.36     105.44      15553159.0   \n",
       "4      3         3  380.33       12765.84  19.90     139.40      12525784.0   \n",
       "\n",
       "   Inventory Turnover  Covid Impact (Beta)  Tracking Error  \\\n",
       "0                2.78                 0.03          0.0330   \n",
       "1                6.78                 0.11          0.0464   \n",
       "2                4.36                 0.23          0.0401   \n",
       "3                2.77                 0.78          0.0187   \n",
       "4                5.93                 0.03          0.0261   \n",
       "\n",
       "   Dollar Exchange Rate  Put-Call Ratio  P/B Ratio  \n",
       "0                  74.9            0.80       4.66  \n",
       "1                  17.7            0.86       6.11  \n",
       "2                   1.0            0.93       4.99  \n",
       "3                  74.9            1.09       1.26  \n",
       "4                   1.0            1.09       6.18  "
      ]
     },
     "execution_count": 43,
     "metadata": {},
     "output_type": "execute_result"
    }
   ],
   "source": [
    "df1.head()"
   ]
  },
  {
   "cell_type": "code",
   "execution_count": 44,
   "metadata": {},
   "outputs": [
    {
     "data": {
      "text/plain": [
       "Series([], dtype: float64)"
      ]
     },
     "execution_count": 44,
     "metadata": {},
     "output_type": "execute_result"
    }
   ],
   "source": [
    "df1_null = df1.columns[df1.isnull().any()]\n",
    "df1[df1_null].isnull().sum()"
   ]
  },
  {
   "cell_type": "markdown",
   "metadata": {},
   "source": [
    "### Normalizing the data using MinMaxScaler function"
   ]
  },
  {
   "cell_type": "code",
   "execution_count": 45,
   "metadata": {},
   "outputs": [],
   "source": [
    "X = df.iloc[:,0:13]\n",
    "y = df.iloc[:,[13]]"
   ]
  },
  {
   "cell_type": "code",
   "execution_count": 46,
   "metadata": {},
   "outputs": [],
   "source": [
    "from sklearn.preprocessing import MinMaxScaler\n",
    "sc = MinMaxScaler()\n",
    "sc2 = MinMaxScaler()\n",
    "X_train = sc.fit_transform(X)\n",
    "y = np.reshape(np.array(y), (-1,1))\n",
    "y_train = sc2.fit_transform(y)"
   ]
  },
  {
   "cell_type": "code",
   "execution_count": 47,
   "metadata": {},
   "outputs": [
    {
     "data": {
      "text/plain": [
       "((7383, 13), (7383, 1))"
      ]
     },
     "execution_count": 47,
     "metadata": {},
     "output_type": "execute_result"
    }
   ],
   "source": [
    "X_train.shape, y_train.shape"
   ]
  },
  {
   "cell_type": "code",
   "execution_count": 48,
   "metadata": {},
   "outputs": [],
   "source": [
    "U = df1.iloc[:,0:13]"
   ]
  },
  {
   "cell_type": "code",
   "execution_count": 49,
   "metadata": {},
   "outputs": [],
   "source": [
    "sc = MinMaxScaler()\n",
    "X_test = sc.fit_transform(U)"
   ]
  },
  {
   "cell_type": "code",
   "execution_count": 50,
   "metadata": {},
   "outputs": [
    {
     "data": {
      "text/plain": [
       "(3331, 13)"
      ]
     },
     "execution_count": 50,
     "metadata": {},
     "output_type": "execute_result"
    }
   ],
   "source": [
    "X_test.shape"
   ]
  },
  {
   "cell_type": "markdown",
   "metadata": {},
   "source": [
    "### Training of Train Data & Prediction of Test data using the best model discoverd previously"
   ]
  },
  {
   "cell_type": "code",
   "execution_count": 51,
   "metadata": {},
   "outputs": [],
   "source": [
    "import tensorflow as tf\n",
    "from tensorflow import keras\n",
    "from tensorflow.keras.models import Sequential\n",
    "from tensorflow.keras.layers import Dense"
   ]
  },
  {
   "cell_type": "code",
   "execution_count": 52,
   "metadata": {},
   "outputs": [],
   "source": [
    "reg_ann = Sequential()\n",
    "reg_ann.add(Dense(units = 8, kernel_initializer = 'uniform', activation = 'relu', input_dim = 13))\n",
    "reg_ann.add(Dense(units = 8, kernel_initializer = 'uniform', activation = 'relu'))\n",
    "reg_ann.add(Dense(units = 8, kernel_initializer = 'uniform', activation = 'relu'))\n",
    "reg_ann.add(Dense(units = 1, kernel_initializer = 'uniform', activation = 'sigmoid'))"
   ]
  },
  {
   "cell_type": "code",
   "execution_count": 53,
   "metadata": {},
   "outputs": [],
   "source": [
    "reg_ann.compile(optimizer = 'adam', loss = 'mean_squared_error', metrics = ['accuracy'])"
   ]
  },
  {
   "cell_type": "code",
   "execution_count": 54,
   "metadata": {
    "scrolled": false
   },
   "outputs": [
    {
     "name": "stdout",
     "output_type": "stream",
     "text": [
      "Epoch 1/65\n",
      "568/568 [==============================] - 1s 1ms/step - loss: 0.0492 - accuracy: 1.3545e-04\n",
      "Epoch 2/65\n",
      "568/568 [==============================] - 1s 2ms/step - loss: 0.0138 - accuracy: 1.3545e-04\n",
      "Epoch 3/65\n",
      "568/568 [==============================] - 1s 1ms/step - loss: 0.0087 - accuracy: 2.7089e-04\n",
      "Epoch 4/65\n",
      "568/568 [==============================] - 1s 1ms/step - loss: 0.0070 - accuracy: 2.7089e-04\n",
      "Epoch 5/65\n",
      "568/568 [==============================] - 1s 1ms/step - loss: 0.0061 - accuracy: 2.7089e-04\n",
      "Epoch 6/65\n",
      "568/568 [==============================] - 1s 983us/step - loss: 0.0055 - accuracy: 2.7089e-04\n",
      "Epoch 7/65\n",
      "568/568 [==============================] - 1s 999us/step - loss: 0.0051 - accuracy: 2.7089e-04\n",
      "Epoch 8/65\n",
      "568/568 [==============================] - 1s 994us/step - loss: 0.0048 - accuracy: 2.7089e-04\n",
      "Epoch 9/65\n",
      "568/568 [==============================] - 1s 1ms/step - loss: 0.0046 - accuracy: 2.7089e-04\n",
      "Epoch 10/65\n",
      "568/568 [==============================] - 1s 2ms/step - loss: 0.0044 - accuracy: 2.7089e-04\n",
      "Epoch 11/65\n",
      "568/568 [==============================] - 1s 1ms/step - loss: 0.0043 - accuracy: 2.7089e-04\n",
      "Epoch 12/65\n",
      "568/568 [==============================] - 1s 1ms/step - loss: 0.0042 - accuracy: 2.7089e-04\n",
      "Epoch 13/65\n",
      "568/568 [==============================] - 1s 1ms/step - loss: 0.0042 - accuracy: 2.7089e-04\n",
      "Epoch 14/65\n",
      "568/568 [==============================] - 1s 1ms/step - loss: 0.0040 - accuracy: 2.7089e-04\n",
      "Epoch 15/65\n",
      "568/568 [==============================] - 1s 1ms/step - loss: 0.0040 - accuracy: 2.7089e-04\n",
      "Epoch 16/65\n",
      "568/568 [==============================] - 1s 1ms/step - loss: 0.0040 - accuracy: 2.7089e-04\n",
      "Epoch 17/65\n",
      "568/568 [==============================] - 1s 1ms/step - loss: 0.0040 - accuracy: 2.7089e-04\n",
      "Epoch 18/65\n",
      "568/568 [==============================] - 1s 1ms/step - loss: 0.0039 - accuracy: 2.7089e-04\n",
      "Epoch 19/65\n",
      "568/568 [==============================] - 1s 2ms/step - loss: 0.0039 - accuracy: 2.7089e-04\n",
      "Epoch 20/65\n",
      "568/568 [==============================] - 1s 1ms/step - loss: 0.0039 - accuracy: 2.7089e-04\n",
      "Epoch 21/65\n",
      "568/568 [==============================] - 1s 1ms/step - loss: 0.0039 - accuracy: 2.7089e-04\n",
      "Epoch 22/65\n",
      "568/568 [==============================] - 1s 1ms/step - loss: 0.0039 - accuracy: 2.7089e-04\n",
      "Epoch 23/65\n",
      "568/568 [==============================] - 1s 1ms/step - loss: 0.0039 - accuracy: 2.7089e-04\n",
      "Epoch 24/65\n",
      "568/568 [==============================] - 1s 996us/step - loss: 0.0039 - accuracy: 2.7089e-04\n",
      "Epoch 25/65\n",
      "568/568 [==============================] - 1s 1ms/step - loss: 0.0039 - accuracy: 2.7089e-04\n",
      "Epoch 26/65\n",
      "568/568 [==============================] - 1s 1ms/step - loss: 0.0039 - accuracy: 2.7089e-04\n",
      "Epoch 27/65\n",
      "568/568 [==============================] - 1s 1ms/step - loss: 0.0039 - accuracy: 2.7089e-04\n",
      "Epoch 28/65\n",
      "568/568 [==============================] - 1s 2ms/step - loss: 0.0039 - accuracy: 2.7089e-04\n",
      "Epoch 29/65\n",
      "568/568 [==============================] - 1s 1ms/step - loss: 0.0039 - accuracy: 2.7089e-04\n",
      "Epoch 30/65\n",
      "568/568 [==============================] - 1s 1ms/step - loss: 0.0039 - accuracy: 2.7089e-04\n",
      "Epoch 31/65\n",
      "568/568 [==============================] - 1s 1ms/step - loss: 0.0039 - accuracy: 2.7089e-04\n",
      "Epoch 32/65\n",
      "568/568 [==============================] - 1s 1ms/step - loss: 0.0039 - accuracy: 2.7089e-04\n",
      "Epoch 33/65\n",
      "568/568 [==============================] - 1s 1ms/step - loss: 0.0039 - accuracy: 2.7089e-04\n",
      "Epoch 34/65\n",
      "568/568 [==============================] - 1s 989us/step - loss: 0.0039 - accuracy: 2.7089e-04\n",
      "Epoch 35/65\n",
      "568/568 [==============================] - 1s 1ms/step - loss: 0.0039 - accuracy: 2.7089e-04\n",
      "Epoch 36/65\n",
      "568/568 [==============================] - 1s 1ms/step - loss: 0.0039 - accuracy: 2.7089e-04\n",
      "Epoch 37/65\n",
      "568/568 [==============================] - 1s 1ms/step - loss: 0.0039 - accuracy: 2.7089e-04\n",
      "Epoch 38/65\n",
      "568/568 [==============================] - 1s 997us/step - loss: 0.0039 - accuracy: 2.7089e-040s - loss: 0.0036 - ac\n",
      "Epoch 39/65\n",
      "568/568 [==============================] - 1s 999us/step - loss: 0.0039 - accuracy: 2.7089e-04\n",
      "Epoch 40/65\n",
      "568/568 [==============================] - 1s 1ms/step - loss: 0.0039 - accuracy: 2.7089e-04\n",
      "Epoch 41/65\n",
      "568/568 [==============================] - 1s 983us/step - loss: 0.0039 - accuracy: 2.7089e-04\n",
      "Epoch 42/65\n",
      "568/568 [==============================] - 1s 1ms/step - loss: 0.0039 - accuracy: 2.7089e-04\n",
      "Epoch 43/65\n",
      "568/568 [==============================] - 1s 1ms/step - loss: 0.0039 - accuracy: 2.7089e-04\n",
      "Epoch 44/65\n",
      "568/568 [==============================] - 1s 1ms/step - loss: 0.0039 - accuracy: 2.7089e-04\n",
      "Epoch 45/65\n",
      "568/568 [==============================] - 1s 2ms/step - loss: 0.0039 - accuracy: 2.7089e-04\n",
      "Epoch 46/65\n",
      "568/568 [==============================] - 1s 1ms/step - loss: 0.0039 - accuracy: 2.7089e-04\n",
      "Epoch 47/65\n",
      "568/568 [==============================] - 1s 1ms/step - loss: 0.0039 - accuracy: 2.7089e-04\n",
      "Epoch 48/65\n",
      "568/568 [==============================] - 1s 1ms/step - loss: 0.0039 - accuracy: 2.7089e-04\n",
      "Epoch 49/65\n",
      "568/568 [==============================] - 1s 964us/step - loss: 0.0039 - accuracy: 2.7089e-04\n",
      "Epoch 50/65\n",
      "568/568 [==============================] - 1s 1ms/step - loss: 0.0039 - accuracy: 2.7089e-04\n",
      "Epoch 51/65\n",
      "568/568 [==============================] - 1s 2ms/step - loss: 0.0039 - accuracy: 2.7089e-04\n",
      "Epoch 52/65\n",
      "568/568 [==============================] - 1s 2ms/step - loss: 0.0039 - accuracy: 2.7089e-04\n",
      "Epoch 53/65\n",
      "568/568 [==============================] - 1s 1ms/step - loss: 0.0039 - accuracy: 2.7089e-04\n",
      "Epoch 54/65\n",
      "568/568 [==============================] - 1s 1ms/step - loss: 0.0038 - accuracy: 2.7089e-04\n",
      "Epoch 55/65\n",
      "568/568 [==============================] - 1s 982us/step - loss: 0.0039 - accuracy: 2.7089e-04\n",
      "Epoch 56/65\n",
      "568/568 [==============================] - 1s 996us/step - loss: 0.0039 - accuracy: 2.7089e-04\n",
      "Epoch 57/65\n",
      "568/568 [==============================] - 1s 1ms/step - loss: 0.0039 - accuracy: 2.7089e-04\n",
      "Epoch 58/65\n",
      "568/568 [==============================] - 1s 1ms/step - loss: 0.0039 - accuracy: 2.7089e-04\n",
      "Epoch 59/65\n",
      "568/568 [==============================] - 1s 1ms/step - loss: 0.0039 - accuracy: 2.7089e-04\n",
      "Epoch 60/65\n",
      "568/568 [==============================] - 1s 1ms/step - loss: 0.0039 - accuracy: 2.7089e-04\n",
      "Epoch 61/65\n",
      "568/568 [==============================] - 1s 1ms/step - loss: 0.0039 - accuracy: 2.7089e-04\n",
      "Epoch 62/65\n",
      "568/568 [==============================] - 1s 1ms/step - loss: 0.0039 - accuracy: 2.7089e-04\n",
      "Epoch 63/65\n",
      "568/568 [==============================] - 1s 978us/step - loss: 0.0039 - accuracy: 2.7089e-04\n",
      "Epoch 64/65\n",
      "568/568 [==============================] - 1s 1ms/step - loss: 0.0039 - accuracy: 2.7089e-04\n",
      "Epoch 65/65\n",
      "568/568 [==============================] - 1s 978us/step - loss: 0.0039 - accuracy: 2.7089e-04\n"
     ]
    },
    {
     "data": {
      "text/plain": [
       "<tensorflow.python.keras.callbacks.History at 0x2430c201c10>"
      ]
     },
     "execution_count": 54,
     "metadata": {},
     "output_type": "execute_result"
    }
   ],
   "source": [
    "reg_ann.fit(X_train, y_train, batch_size = 13, epochs = 65)"
   ]
  },
  {
   "cell_type": "code",
   "execution_count": 55,
   "metadata": {},
   "outputs": [],
   "source": [
    "y_pred = reg_ann.predict(X_test)"
   ]
  },
  {
   "cell_type": "code",
   "execution_count": 56,
   "metadata": {},
   "outputs": [],
   "source": [
    "y_val = y_pred.reshape(-1,1)\n",
    "y_val = sc2.inverse_transform(y_val)"
   ]
  },
  {
   "cell_type": "code",
   "execution_count": 57,
   "metadata": {},
   "outputs": [
    {
     "data": {
      "text/html": [
       "<div>\n",
       "<style scoped>\n",
       "    .dataframe tbody tr th:only-of-type {\n",
       "        vertical-align: middle;\n",
       "    }\n",
       "\n",
       "    .dataframe tbody tr th {\n",
       "        vertical-align: top;\n",
       "    }\n",
       "\n",
       "    .dataframe thead th {\n",
       "        text-align: right;\n",
       "    }\n",
       "</style>\n",
       "<table border=\"1\" class=\"dataframe\">\n",
       "  <thead>\n",
       "    <tr style=\"text-align: right;\">\n",
       "      <th></th>\n",
       "      <th>0</th>\n",
       "    </tr>\n",
       "  </thead>\n",
       "  <tbody>\n",
       "    <tr>\n",
       "      <th>0</th>\n",
       "      <td>866.119019</td>\n",
       "    </tr>\n",
       "    <tr>\n",
       "      <th>1</th>\n",
       "      <td>298.194427</td>\n",
       "    </tr>\n",
       "    <tr>\n",
       "      <th>2</th>\n",
       "      <td>1466.656494</td>\n",
       "    </tr>\n",
       "    <tr>\n",
       "      <th>3</th>\n",
       "      <td>794.142578</td>\n",
       "    </tr>\n",
       "    <tr>\n",
       "      <th>4</th>\n",
       "      <td>294.959229</td>\n",
       "    </tr>\n",
       "    <tr>\n",
       "      <th>...</th>\n",
       "      <td>...</td>\n",
       "    </tr>\n",
       "    <tr>\n",
       "      <th>3326</th>\n",
       "      <td>181.447479</td>\n",
       "    </tr>\n",
       "    <tr>\n",
       "      <th>3327</th>\n",
       "      <td>183.695984</td>\n",
       "    </tr>\n",
       "    <tr>\n",
       "      <th>3328</th>\n",
       "      <td>187.358887</td>\n",
       "    </tr>\n",
       "    <tr>\n",
       "      <th>3329</th>\n",
       "      <td>474.733948</td>\n",
       "    </tr>\n",
       "    <tr>\n",
       "      <th>3330</th>\n",
       "      <td>1275.562622</td>\n",
       "    </tr>\n",
       "  </tbody>\n",
       "</table>\n",
       "<p>3331 rows × 1 columns</p>\n",
       "</div>"
      ],
      "text/plain": [
       "                0\n",
       "0      866.119019\n",
       "1      298.194427\n",
       "2     1466.656494\n",
       "3      794.142578\n",
       "4      294.959229\n",
       "...           ...\n",
       "3326   181.447479\n",
       "3327   183.695984\n",
       "3328   187.358887\n",
       "3329   474.733948\n",
       "3330  1275.562622\n",
       "\n",
       "[3331 rows x 1 columns]"
      ]
     },
     "execution_count": 57,
     "metadata": {},
     "output_type": "execute_result"
    }
   ],
   "source": [
    "y = pd.DataFrame(y_val)\n",
    "y"
   ]
  },
  {
   "cell_type": "markdown",
   "metadata": {},
   "source": [
    "### Exporting values into an Excel workbook"
   ]
  },
  {
   "cell_type": "code",
   "execution_count": 58,
   "metadata": {},
   "outputs": [],
   "source": [
    "test_index = df2.iloc[:,0].values"
   ]
  },
  {
   "cell_type": "code",
   "execution_count": 59,
   "metadata": {},
   "outputs": [],
   "source": [
    "import xlsxwriter"
   ]
  },
  {
   "cell_type": "code",
   "execution_count": 60,
   "metadata": {},
   "outputs": [],
   "source": [
    "workbook = xlsxwriter.Workbook('part-02.xlsx') \n",
    "worksheet = workbook.add_worksheet()"
   ]
  },
  {
   "cell_type": "code",
   "execution_count": 61,
   "metadata": {},
   "outputs": [
    {
     "data": {
      "text/plain": [
       "0"
      ]
     },
     "execution_count": 61,
     "metadata": {},
     "output_type": "execute_result"
    }
   ],
   "source": [
    "row = 1\n",
    "row_id=0\n",
    "column_id = 0\n",
    "column=1\n",
    "worksheet.write(0,0,'Stock Index')\n",
    "worksheet.write(0,1,'Stock Price (Predicted)')"
   ]
  },
  {
   "cell_type": "code",
   "execution_count": 62,
   "metadata": {},
   "outputs": [],
   "source": [
    "for i in range(len(y_val)) : \n",
    "    worksheet.write(row, column_id, test_index[i])\n",
    "    worksheet.write(row, column, y_val[i])\n",
    "    row += 1"
   ]
  },
  {
   "cell_type": "code",
   "execution_count": 63,
   "metadata": {},
   "outputs": [],
   "source": [
    "workbook.close()"
   ]
  },
  {
   "cell_type": "code",
   "execution_count": null,
   "metadata": {},
   "outputs": [],
   "source": []
  }
 ],
 "metadata": {
  "kernelspec": {
   "display_name": "Python 3",
   "language": "python",
   "name": "python3"
  },
  "language_info": {
   "codemirror_mode": {
    "name": "ipython",
    "version": 3
   },
   "file_extension": ".py",
   "mimetype": "text/x-python",
   "name": "python",
   "nbconvert_exporter": "python",
   "pygments_lexer": "ipython3",
   "version": "3.8.2"
  }
 },
 "nbformat": 4,
 "nbformat_minor": 4
}
